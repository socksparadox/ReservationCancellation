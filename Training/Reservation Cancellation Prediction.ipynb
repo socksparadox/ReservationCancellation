{
 "cells": [
  {
   "cell_type": "code",
   "execution_count": 1,
   "id": "013435c1",
   "metadata": {},
   "outputs": [],
   "source": [
    "import numpy as np\n",
    "import pandas as pd\n",
    "import matplotlib.pyplot as plt\n",
    "import seaborn as sns\n",
    "import pickle\n",
    "from sklearn.model_selection import train_test_split\n",
    "from sklearn.metrics import accuracy_score, confusion_matrix, f1_score\n",
    "\n",
    "from sklearn.neighbors import KNeighborsClassifier\n",
    "from sklearn.svm import SVC\n",
    "from sklearn.naive_bayes import GaussianNB\n",
    "from sklearn.tree import DecisionTreeClassifier\n",
    "from sklearn.linear_model import LogisticRegression\n",
    "from sklearn.ensemble import GradientBoostingClassifier,RandomForestClassifier"
   ]
  },
  {
   "cell_type": "code",
   "execution_count": 2,
   "id": "5a389418",
   "metadata": {},
   "outputs": [],
   "source": [
    "train = pd.read_csv(\"C:/Users/hp/SB/Reservation Cancellation Prediction/Data/train__dataset.csv\")"
   ]
  },
  {
   "cell_type": "code",
   "execution_count": 3,
   "id": "a296bb3c",
   "metadata": {},
   "outputs": [
    {
     "data": {
      "text/html": [
       "<div>\n",
       "<style scoped>\n",
       "    .dataframe tbody tr th:only-of-type {\n",
       "        vertical-align: middle;\n",
       "    }\n",
       "\n",
       "    .dataframe tbody tr th {\n",
       "        vertical-align: top;\n",
       "    }\n",
       "\n",
       "    .dataframe thead th {\n",
       "        text-align: right;\n",
       "    }\n",
       "</style>\n",
       "<table border=\"1\" class=\"dataframe\">\n",
       "  <thead>\n",
       "    <tr style=\"text-align: right;\">\n",
       "      <th></th>\n",
       "      <th>no_of_adults</th>\n",
       "      <th>no_of_children</th>\n",
       "      <th>no_of_weekend_nights</th>\n",
       "      <th>no_of_week_nights</th>\n",
       "      <th>type_of_meal_plan</th>\n",
       "      <th>required_car_parking_space</th>\n",
       "      <th>room_type_reserved</th>\n",
       "      <th>lead_time</th>\n",
       "      <th>arrival_year</th>\n",
       "      <th>arrival_month</th>\n",
       "      <th>arrival_date</th>\n",
       "      <th>market_segment_type</th>\n",
       "      <th>repeated_guest</th>\n",
       "      <th>no_of_previous_cancellations</th>\n",
       "      <th>no_of_previous_bookings_not_canceled</th>\n",
       "      <th>avg_price_per_room</th>\n",
       "      <th>no_of_special_requests</th>\n",
       "      <th>booking_status</th>\n",
       "    </tr>\n",
       "  </thead>\n",
       "  <tbody>\n",
       "    <tr>\n",
       "      <th>0</th>\n",
       "      <td>2</td>\n",
       "      <td>0</td>\n",
       "      <td>1</td>\n",
       "      <td>4</td>\n",
       "      <td>0</td>\n",
       "      <td>0</td>\n",
       "      <td>0</td>\n",
       "      <td>118</td>\n",
       "      <td>2017</td>\n",
       "      <td>12</td>\n",
       "      <td>28</td>\n",
       "      <td>1</td>\n",
       "      <td>0</td>\n",
       "      <td>0</td>\n",
       "      <td>0</td>\n",
       "      <td>110.80</td>\n",
       "      <td>2</td>\n",
       "      <td>0</td>\n",
       "    </tr>\n",
       "    <tr>\n",
       "      <th>1</th>\n",
       "      <td>2</td>\n",
       "      <td>1</td>\n",
       "      <td>0</td>\n",
       "      <td>2</td>\n",
       "      <td>0</td>\n",
       "      <td>0</td>\n",
       "      <td>0</td>\n",
       "      <td>17</td>\n",
       "      <td>2018</td>\n",
       "      <td>4</td>\n",
       "      <td>14</td>\n",
       "      <td>1</td>\n",
       "      <td>0</td>\n",
       "      <td>0</td>\n",
       "      <td>0</td>\n",
       "      <td>145.00</td>\n",
       "      <td>0</td>\n",
       "      <td>1</td>\n",
       "    </tr>\n",
       "    <tr>\n",
       "      <th>2</th>\n",
       "      <td>1</td>\n",
       "      <td>0</td>\n",
       "      <td>1</td>\n",
       "      <td>5</td>\n",
       "      <td>0</td>\n",
       "      <td>0</td>\n",
       "      <td>0</td>\n",
       "      <td>349</td>\n",
       "      <td>2018</td>\n",
       "      <td>10</td>\n",
       "      <td>4</td>\n",
       "      <td>0</td>\n",
       "      <td>0</td>\n",
       "      <td>0</td>\n",
       "      <td>0</td>\n",
       "      <td>96.67</td>\n",
       "      <td>0</td>\n",
       "      <td>1</td>\n",
       "    </tr>\n",
       "    <tr>\n",
       "      <th>3</th>\n",
       "      <td>1</td>\n",
       "      <td>0</td>\n",
       "      <td>2</td>\n",
       "      <td>4</td>\n",
       "      <td>0</td>\n",
       "      <td>0</td>\n",
       "      <td>0</td>\n",
       "      <td>69</td>\n",
       "      <td>2018</td>\n",
       "      <td>6</td>\n",
       "      <td>12</td>\n",
       "      <td>0</td>\n",
       "      <td>0</td>\n",
       "      <td>0</td>\n",
       "      <td>0</td>\n",
       "      <td>120.00</td>\n",
       "      <td>0</td>\n",
       "      <td>1</td>\n",
       "    </tr>\n",
       "    <tr>\n",
       "      <th>4</th>\n",
       "      <td>2</td>\n",
       "      <td>0</td>\n",
       "      <td>0</td>\n",
       "      <td>4</td>\n",
       "      <td>1</td>\n",
       "      <td>0</td>\n",
       "      <td>0</td>\n",
       "      <td>11</td>\n",
       "      <td>2018</td>\n",
       "      <td>1</td>\n",
       "      <td>20</td>\n",
       "      <td>1</td>\n",
       "      <td>0</td>\n",
       "      <td>0</td>\n",
       "      <td>0</td>\n",
       "      <td>69.50</td>\n",
       "      <td>1</td>\n",
       "      <td>0</td>\n",
       "    </tr>\n",
       "  </tbody>\n",
       "</table>\n",
       "</div>"
      ],
      "text/plain": [
       "   no_of_adults  no_of_children  no_of_weekend_nights  no_of_week_nights  \\\n",
       "0             2               0                     1                  4   \n",
       "1             2               1                     0                  2   \n",
       "2             1               0                     1                  5   \n",
       "3             1               0                     2                  4   \n",
       "4             2               0                     0                  4   \n",
       "\n",
       "   type_of_meal_plan  required_car_parking_space  room_type_reserved  \\\n",
       "0                  0                           0                   0   \n",
       "1                  0                           0                   0   \n",
       "2                  0                           0                   0   \n",
       "3                  0                           0                   0   \n",
       "4                  1                           0                   0   \n",
       "\n",
       "   lead_time  arrival_year  arrival_month  arrival_date  market_segment_type  \\\n",
       "0        118          2017             12            28                    1   \n",
       "1         17          2018              4            14                    1   \n",
       "2        349          2018             10             4                    0   \n",
       "3         69          2018              6            12                    0   \n",
       "4         11          2018              1            20                    1   \n",
       "\n",
       "   repeated_guest  no_of_previous_cancellations  \\\n",
       "0               0                             0   \n",
       "1               0                             0   \n",
       "2               0                             0   \n",
       "3               0                             0   \n",
       "4               0                             0   \n",
       "\n",
       "   no_of_previous_bookings_not_canceled  avg_price_per_room  \\\n",
       "0                                     0              110.80   \n",
       "1                                     0              145.00   \n",
       "2                                     0               96.67   \n",
       "3                                     0              120.00   \n",
       "4                                     0               69.50   \n",
       "\n",
       "   no_of_special_requests  booking_status  \n",
       "0                       2               0  \n",
       "1                       0               1  \n",
       "2                       0               1  \n",
       "3                       0               1  \n",
       "4                       1               0  "
      ]
     },
     "execution_count": 3,
     "metadata": {},
     "output_type": "execute_result"
    }
   ],
   "source": [
    "train.head()"
   ]
  },
  {
   "cell_type": "code",
   "execution_count": 4,
   "id": "df84be03",
   "metadata": {},
   "outputs": [
    {
     "data": {
      "text/plain": [
       "(18137, 18)"
      ]
     },
     "execution_count": 4,
     "metadata": {},
     "output_type": "execute_result"
    }
   ],
   "source": [
    "train.shape"
   ]
  },
  {
   "cell_type": "code",
   "execution_count": 5,
   "id": "e8f40c78",
   "metadata": {},
   "outputs": [],
   "source": [
    "test = pd.read_csv(\"C:/Users/hp/SB/Reservation Cancellation Prediction/Data/test___dataset.csv\")"
   ]
  },
  {
   "cell_type": "code",
   "execution_count": 6,
   "id": "daa3cc28",
   "metadata": {},
   "outputs": [
    {
     "data": {
      "text/html": [
       "<div>\n",
       "<style scoped>\n",
       "    .dataframe tbody tr th:only-of-type {\n",
       "        vertical-align: middle;\n",
       "    }\n",
       "\n",
       "    .dataframe tbody tr th {\n",
       "        vertical-align: top;\n",
       "    }\n",
       "\n",
       "    .dataframe thead th {\n",
       "        text-align: right;\n",
       "    }\n",
       "</style>\n",
       "<table border=\"1\" class=\"dataframe\">\n",
       "  <thead>\n",
       "    <tr style=\"text-align: right;\">\n",
       "      <th></th>\n",
       "      <th>no_of_adults</th>\n",
       "      <th>no_of_children</th>\n",
       "      <th>no_of_weekend_nights</th>\n",
       "      <th>no_of_week_nights</th>\n",
       "      <th>type_of_meal_plan</th>\n",
       "      <th>required_car_parking_space</th>\n",
       "      <th>room_type_reserved</th>\n",
       "      <th>lead_time</th>\n",
       "      <th>arrival_year</th>\n",
       "      <th>arrival_month</th>\n",
       "      <th>arrival_date</th>\n",
       "      <th>market_segment_type</th>\n",
       "      <th>repeated_guest</th>\n",
       "      <th>no_of_previous_cancellations</th>\n",
       "      <th>no_of_previous_bookings_not_canceled</th>\n",
       "      <th>avg_price_per_room</th>\n",
       "      <th>no_of_special_requests</th>\n",
       "    </tr>\n",
       "  </thead>\n",
       "  <tbody>\n",
       "    <tr>\n",
       "      <th>0</th>\n",
       "      <td>2</td>\n",
       "      <td>0</td>\n",
       "      <td>1</td>\n",
       "      <td>2</td>\n",
       "      <td>0</td>\n",
       "      <td>1</td>\n",
       "      <td>0</td>\n",
       "      <td>65</td>\n",
       "      <td>2018</td>\n",
       "      <td>3</td>\n",
       "      <td>28</td>\n",
       "      <td>1</td>\n",
       "      <td>0</td>\n",
       "      <td>0</td>\n",
       "      <td>0</td>\n",
       "      <td>96.3</td>\n",
       "      <td>0</td>\n",
       "    </tr>\n",
       "    <tr>\n",
       "      <th>1</th>\n",
       "      <td>2</td>\n",
       "      <td>0</td>\n",
       "      <td>0</td>\n",
       "      <td>2</td>\n",
       "      <td>0</td>\n",
       "      <td>0</td>\n",
       "      <td>0</td>\n",
       "      <td>322</td>\n",
       "      <td>2018</td>\n",
       "      <td>12</td>\n",
       "      <td>9</td>\n",
       "      <td>0</td>\n",
       "      <td>0</td>\n",
       "      <td>0</td>\n",
       "      <td>0</td>\n",
       "      <td>52.0</td>\n",
       "      <td>0</td>\n",
       "    </tr>\n",
       "    <tr>\n",
       "      <th>2</th>\n",
       "      <td>1</td>\n",
       "      <td>0</td>\n",
       "      <td>2</td>\n",
       "      <td>3</td>\n",
       "      <td>0</td>\n",
       "      <td>0</td>\n",
       "      <td>0</td>\n",
       "      <td>115</td>\n",
       "      <td>2018</td>\n",
       "      <td>2</td>\n",
       "      <td>27</td>\n",
       "      <td>0</td>\n",
       "      <td>0</td>\n",
       "      <td>0</td>\n",
       "      <td>0</td>\n",
       "      <td>75.0</td>\n",
       "      <td>0</td>\n",
       "    </tr>\n",
       "    <tr>\n",
       "      <th>3</th>\n",
       "      <td>2</td>\n",
       "      <td>0</td>\n",
       "      <td>2</td>\n",
       "      <td>0</td>\n",
       "      <td>2</td>\n",
       "      <td>0</td>\n",
       "      <td>0</td>\n",
       "      <td>386</td>\n",
       "      <td>2018</td>\n",
       "      <td>10</td>\n",
       "      <td>23</td>\n",
       "      <td>1</td>\n",
       "      <td>0</td>\n",
       "      <td>0</td>\n",
       "      <td>0</td>\n",
       "      <td>115.0</td>\n",
       "      <td>1</td>\n",
       "    </tr>\n",
       "    <tr>\n",
       "      <th>4</th>\n",
       "      <td>2</td>\n",
       "      <td>0</td>\n",
       "      <td>1</td>\n",
       "      <td>4</td>\n",
       "      <td>0</td>\n",
       "      <td>0</td>\n",
       "      <td>1</td>\n",
       "      <td>51</td>\n",
       "      <td>2018</td>\n",
       "      <td>8</td>\n",
       "      <td>31</td>\n",
       "      <td>1</td>\n",
       "      <td>0</td>\n",
       "      <td>0</td>\n",
       "      <td>0</td>\n",
       "      <td>123.3</td>\n",
       "      <td>0</td>\n",
       "    </tr>\n",
       "  </tbody>\n",
       "</table>\n",
       "</div>"
      ],
      "text/plain": [
       "   no_of_adults  no_of_children  no_of_weekend_nights  no_of_week_nights  \\\n",
       "0             2               0                     1                  2   \n",
       "1             2               0                     0                  2   \n",
       "2             1               0                     2                  3   \n",
       "3             2               0                     2                  0   \n",
       "4             2               0                     1                  4   \n",
       "\n",
       "   type_of_meal_plan  required_car_parking_space  room_type_reserved  \\\n",
       "0                  0                           1                   0   \n",
       "1                  0                           0                   0   \n",
       "2                  0                           0                   0   \n",
       "3                  2                           0                   0   \n",
       "4                  0                           0                   1   \n",
       "\n",
       "   lead_time  arrival_year  arrival_month  arrival_date  market_segment_type  \\\n",
       "0         65          2018              3            28                    1   \n",
       "1        322          2018             12             9                    0   \n",
       "2        115          2018              2            27                    0   \n",
       "3        386          2018             10            23                    1   \n",
       "4         51          2018              8            31                    1   \n",
       "\n",
       "   repeated_guest  no_of_previous_cancellations  \\\n",
       "0               0                             0   \n",
       "1               0                             0   \n",
       "2               0                             0   \n",
       "3               0                             0   \n",
       "4               0                             0   \n",
       "\n",
       "   no_of_previous_bookings_not_canceled  avg_price_per_room  \\\n",
       "0                                     0                96.3   \n",
       "1                                     0                52.0   \n",
       "2                                     0                75.0   \n",
       "3                                     0               115.0   \n",
       "4                                     0               123.3   \n",
       "\n",
       "   no_of_special_requests  \n",
       "0                       0  \n",
       "1                       0  \n",
       "2                       0  \n",
       "3                       1  \n",
       "4                       0  "
      ]
     },
     "execution_count": 6,
     "metadata": {},
     "output_type": "execute_result"
    }
   ],
   "source": [
    "test.head()"
   ]
  },
  {
   "cell_type": "code",
   "execution_count": 7,
   "id": "37817e16",
   "metadata": {},
   "outputs": [
    {
     "name": "stdout",
     "output_type": "stream",
     "text": [
      "<class 'pandas.core.frame.DataFrame'>\n",
      "RangeIndex: 18137 entries, 0 to 18136\n",
      "Data columns (total 18 columns):\n",
      " #   Column                                Non-Null Count  Dtype  \n",
      "---  ------                                --------------  -----  \n",
      " 0   no_of_adults                          18137 non-null  int64  \n",
      " 1   no_of_children                        18137 non-null  int64  \n",
      " 2   no_of_weekend_nights                  18137 non-null  int64  \n",
      " 3   no_of_week_nights                     18137 non-null  int64  \n",
      " 4   type_of_meal_plan                     18137 non-null  int64  \n",
      " 5   required_car_parking_space            18137 non-null  int64  \n",
      " 6   room_type_reserved                    18137 non-null  int64  \n",
      " 7   lead_time                             18137 non-null  int64  \n",
      " 8   arrival_year                          18137 non-null  int64  \n",
      " 9   arrival_month                         18137 non-null  int64  \n",
      " 10  arrival_date                          18137 non-null  int64  \n",
      " 11  market_segment_type                   18137 non-null  int64  \n",
      " 12  repeated_guest                        18137 non-null  int64  \n",
      " 13  no_of_previous_cancellations          18137 non-null  int64  \n",
      " 14  no_of_previous_bookings_not_canceled  18137 non-null  int64  \n",
      " 15  avg_price_per_room                    18137 non-null  float64\n",
      " 16  no_of_special_requests                18137 non-null  int64  \n",
      " 17  booking_status                        18137 non-null  int64  \n",
      "dtypes: float64(1), int64(17)\n",
      "memory usage: 2.5 MB\n"
     ]
    }
   ],
   "source": [
    "train.info()"
   ]
  },
  {
   "cell_type": "code",
   "execution_count": 8,
   "id": "d3a0be8e",
   "metadata": {},
   "outputs": [
    {
     "data": {
      "text/plain": [
       "no_of_adults                            False\n",
       "no_of_children                          False\n",
       "no_of_weekend_nights                    False\n",
       "no_of_week_nights                       False\n",
       "type_of_meal_plan                       False\n",
       "required_car_parking_space              False\n",
       "room_type_reserved                      False\n",
       "lead_time                               False\n",
       "arrival_year                            False\n",
       "arrival_month                           False\n",
       "arrival_date                            False\n",
       "market_segment_type                     False\n",
       "repeated_guest                          False\n",
       "no_of_previous_cancellations            False\n",
       "no_of_previous_bookings_not_canceled    False\n",
       "avg_price_per_room                      False\n",
       "no_of_special_requests                  False\n",
       "booking_status                          False\n",
       "dtype: bool"
      ]
     },
     "execution_count": 8,
     "metadata": {},
     "output_type": "execute_result"
    }
   ],
   "source": [
    "train.isnull().any()"
   ]
  },
  {
   "cell_type": "code",
   "execution_count": 9,
   "id": "b54ffcef",
   "metadata": {},
   "outputs": [
    {
     "data": {
      "text/plain": [
       "0    12195\n",
       "1     5942\n",
       "Name: booking_status, dtype: int64"
      ]
     },
     "execution_count": 9,
     "metadata": {},
     "output_type": "execute_result"
    }
   ],
   "source": [
    "train['booking_status'].value_counts()"
   ]
  },
  {
   "cell_type": "code",
   "execution_count": 10,
   "id": "6d4cfcba",
   "metadata": {},
   "outputs": [
    {
     "data": {
      "text/html": [
       "<div>\n",
       "<style scoped>\n",
       "    .dataframe tbody tr th:only-of-type {\n",
       "        vertical-align: middle;\n",
       "    }\n",
       "\n",
       "    .dataframe tbody tr th {\n",
       "        vertical-align: top;\n",
       "    }\n",
       "\n",
       "    .dataframe thead th {\n",
       "        text-align: right;\n",
       "    }\n",
       "</style>\n",
       "<table border=\"1\" class=\"dataframe\">\n",
       "  <thead>\n",
       "    <tr style=\"text-align: right;\">\n",
       "      <th></th>\n",
       "      <th>no_of_adults</th>\n",
       "      <th>no_of_children</th>\n",
       "      <th>no_of_weekend_nights</th>\n",
       "      <th>no_of_week_nights</th>\n",
       "      <th>type_of_meal_plan</th>\n",
       "      <th>required_car_parking_space</th>\n",
       "      <th>room_type_reserved</th>\n",
       "      <th>lead_time</th>\n",
       "      <th>arrival_year</th>\n",
       "      <th>arrival_month</th>\n",
       "      <th>arrival_date</th>\n",
       "      <th>market_segment_type</th>\n",
       "      <th>repeated_guest</th>\n",
       "      <th>no_of_previous_cancellations</th>\n",
       "      <th>no_of_previous_bookings_not_canceled</th>\n",
       "      <th>avg_price_per_room</th>\n",
       "      <th>no_of_special_requests</th>\n",
       "      <th>booking_status</th>\n",
       "    </tr>\n",
       "  </thead>\n",
       "  <tbody>\n",
       "    <tr>\n",
       "      <th>count</th>\n",
       "      <td>18137.000000</td>\n",
       "      <td>18137.000000</td>\n",
       "      <td>18137.000000</td>\n",
       "      <td>18137.000000</td>\n",
       "      <td>18137.000000</td>\n",
       "      <td>18137.000000</td>\n",
       "      <td>18137.000000</td>\n",
       "      <td>18137.000000</td>\n",
       "      <td>18137.000000</td>\n",
       "      <td>18137.000000</td>\n",
       "      <td>18137.000000</td>\n",
       "      <td>18137.000000</td>\n",
       "      <td>18137.000000</td>\n",
       "      <td>18137.000000</td>\n",
       "      <td>18137.000000</td>\n",
       "      <td>18137.000000</td>\n",
       "      <td>18137.000000</td>\n",
       "      <td>18137.000000</td>\n",
       "    </tr>\n",
       "    <tr>\n",
       "      <th>mean</th>\n",
       "      <td>1.846777</td>\n",
       "      <td>0.107515</td>\n",
       "      <td>0.811104</td>\n",
       "      <td>2.208965</td>\n",
       "      <td>0.318465</td>\n",
       "      <td>0.031648</td>\n",
       "      <td>0.336770</td>\n",
       "      <td>85.377405</td>\n",
       "      <td>2017.820698</td>\n",
       "      <td>7.432762</td>\n",
       "      <td>15.660804</td>\n",
       "      <td>0.806197</td>\n",
       "      <td>0.025087</td>\n",
       "      <td>0.022440</td>\n",
       "      <td>0.151403</td>\n",
       "      <td>103.478868</td>\n",
       "      <td>0.617522</td>\n",
       "      <td>0.327618</td>\n",
       "    </tr>\n",
       "    <tr>\n",
       "      <th>std</th>\n",
       "      <td>0.516020</td>\n",
       "      <td>0.408901</td>\n",
       "      <td>0.873470</td>\n",
       "      <td>1.426365</td>\n",
       "      <td>0.629140</td>\n",
       "      <td>0.175066</td>\n",
       "      <td>0.772865</td>\n",
       "      <td>86.611736</td>\n",
       "      <td>0.383616</td>\n",
       "      <td>3.076999</td>\n",
       "      <td>8.772788</td>\n",
       "      <td>0.645972</td>\n",
       "      <td>0.156393</td>\n",
       "      <td>0.370078</td>\n",
       "      <td>1.714135</td>\n",
       "      <td>35.474103</td>\n",
       "      <td>0.787941</td>\n",
       "      <td>0.469357</td>\n",
       "    </tr>\n",
       "    <tr>\n",
       "      <th>min</th>\n",
       "      <td>0.000000</td>\n",
       "      <td>0.000000</td>\n",
       "      <td>0.000000</td>\n",
       "      <td>0.000000</td>\n",
       "      <td>0.000000</td>\n",
       "      <td>0.000000</td>\n",
       "      <td>0.000000</td>\n",
       "      <td>0.000000</td>\n",
       "      <td>2017.000000</td>\n",
       "      <td>1.000000</td>\n",
       "      <td>1.000000</td>\n",
       "      <td>0.000000</td>\n",
       "      <td>0.000000</td>\n",
       "      <td>0.000000</td>\n",
       "      <td>0.000000</td>\n",
       "      <td>0.000000</td>\n",
       "      <td>0.000000</td>\n",
       "      <td>0.000000</td>\n",
       "    </tr>\n",
       "    <tr>\n",
       "      <th>25%</th>\n",
       "      <td>2.000000</td>\n",
       "      <td>0.000000</td>\n",
       "      <td>0.000000</td>\n",
       "      <td>1.000000</td>\n",
       "      <td>0.000000</td>\n",
       "      <td>0.000000</td>\n",
       "      <td>0.000000</td>\n",
       "      <td>17.000000</td>\n",
       "      <td>2018.000000</td>\n",
       "      <td>5.000000</td>\n",
       "      <td>8.000000</td>\n",
       "      <td>0.000000</td>\n",
       "      <td>0.000000</td>\n",
       "      <td>0.000000</td>\n",
       "      <td>0.000000</td>\n",
       "      <td>80.300000</td>\n",
       "      <td>0.000000</td>\n",
       "      <td>0.000000</td>\n",
       "    </tr>\n",
       "    <tr>\n",
       "      <th>50%</th>\n",
       "      <td>2.000000</td>\n",
       "      <td>0.000000</td>\n",
       "      <td>1.000000</td>\n",
       "      <td>2.000000</td>\n",
       "      <td>0.000000</td>\n",
       "      <td>0.000000</td>\n",
       "      <td>0.000000</td>\n",
       "      <td>57.000000</td>\n",
       "      <td>2018.000000</td>\n",
       "      <td>8.000000</td>\n",
       "      <td>16.000000</td>\n",
       "      <td>1.000000</td>\n",
       "      <td>0.000000</td>\n",
       "      <td>0.000000</td>\n",
       "      <td>0.000000</td>\n",
       "      <td>99.450000</td>\n",
       "      <td>0.000000</td>\n",
       "      <td>0.000000</td>\n",
       "    </tr>\n",
       "    <tr>\n",
       "      <th>75%</th>\n",
       "      <td>2.000000</td>\n",
       "      <td>0.000000</td>\n",
       "      <td>2.000000</td>\n",
       "      <td>3.000000</td>\n",
       "      <td>0.000000</td>\n",
       "      <td>0.000000</td>\n",
       "      <td>0.000000</td>\n",
       "      <td>127.000000</td>\n",
       "      <td>2018.000000</td>\n",
       "      <td>10.000000</td>\n",
       "      <td>23.000000</td>\n",
       "      <td>1.000000</td>\n",
       "      <td>0.000000</td>\n",
       "      <td>0.000000</td>\n",
       "      <td>0.000000</td>\n",
       "      <td>120.270000</td>\n",
       "      <td>1.000000</td>\n",
       "      <td>1.000000</td>\n",
       "    </tr>\n",
       "    <tr>\n",
       "      <th>max</th>\n",
       "      <td>4.000000</td>\n",
       "      <td>9.000000</td>\n",
       "      <td>7.000000</td>\n",
       "      <td>17.000000</td>\n",
       "      <td>3.000000</td>\n",
       "      <td>1.000000</td>\n",
       "      <td>6.000000</td>\n",
       "      <td>443.000000</td>\n",
       "      <td>2018.000000</td>\n",
       "      <td>12.000000</td>\n",
       "      <td>31.000000</td>\n",
       "      <td>4.000000</td>\n",
       "      <td>1.000000</td>\n",
       "      <td>13.000000</td>\n",
       "      <td>58.000000</td>\n",
       "      <td>540.000000</td>\n",
       "      <td>5.000000</td>\n",
       "      <td>1.000000</td>\n",
       "    </tr>\n",
       "  </tbody>\n",
       "</table>\n",
       "</div>"
      ],
      "text/plain": [
       "       no_of_adults  no_of_children  no_of_weekend_nights  no_of_week_nights  \\\n",
       "count  18137.000000    18137.000000          18137.000000       18137.000000   \n",
       "mean       1.846777        0.107515              0.811104           2.208965   \n",
       "std        0.516020        0.408901              0.873470           1.426365   \n",
       "min        0.000000        0.000000              0.000000           0.000000   \n",
       "25%        2.000000        0.000000              0.000000           1.000000   \n",
       "50%        2.000000        0.000000              1.000000           2.000000   \n",
       "75%        2.000000        0.000000              2.000000           3.000000   \n",
       "max        4.000000        9.000000              7.000000          17.000000   \n",
       "\n",
       "       type_of_meal_plan  required_car_parking_space  room_type_reserved  \\\n",
       "count       18137.000000                18137.000000        18137.000000   \n",
       "mean            0.318465                    0.031648            0.336770   \n",
       "std             0.629140                    0.175066            0.772865   \n",
       "min             0.000000                    0.000000            0.000000   \n",
       "25%             0.000000                    0.000000            0.000000   \n",
       "50%             0.000000                    0.000000            0.000000   \n",
       "75%             0.000000                    0.000000            0.000000   \n",
       "max             3.000000                    1.000000            6.000000   \n",
       "\n",
       "          lead_time  arrival_year  arrival_month  arrival_date  \\\n",
       "count  18137.000000  18137.000000   18137.000000  18137.000000   \n",
       "mean      85.377405   2017.820698       7.432762     15.660804   \n",
       "std       86.611736      0.383616       3.076999      8.772788   \n",
       "min        0.000000   2017.000000       1.000000      1.000000   \n",
       "25%       17.000000   2018.000000       5.000000      8.000000   \n",
       "50%       57.000000   2018.000000       8.000000     16.000000   \n",
       "75%      127.000000   2018.000000      10.000000     23.000000   \n",
       "max      443.000000   2018.000000      12.000000     31.000000   \n",
       "\n",
       "       market_segment_type  repeated_guest  no_of_previous_cancellations  \\\n",
       "count         18137.000000    18137.000000                  18137.000000   \n",
       "mean              0.806197        0.025087                      0.022440   \n",
       "std               0.645972        0.156393                      0.370078   \n",
       "min               0.000000        0.000000                      0.000000   \n",
       "25%               0.000000        0.000000                      0.000000   \n",
       "50%               1.000000        0.000000                      0.000000   \n",
       "75%               1.000000        0.000000                      0.000000   \n",
       "max               4.000000        1.000000                     13.000000   \n",
       "\n",
       "       no_of_previous_bookings_not_canceled  avg_price_per_room  \\\n",
       "count                          18137.000000        18137.000000   \n",
       "mean                               0.151403          103.478868   \n",
       "std                                1.714135           35.474103   \n",
       "min                                0.000000            0.000000   \n",
       "25%                                0.000000           80.300000   \n",
       "50%                                0.000000           99.450000   \n",
       "75%                                0.000000          120.270000   \n",
       "max                               58.000000          540.000000   \n",
       "\n",
       "       no_of_special_requests  booking_status  \n",
       "count            18137.000000    18137.000000  \n",
       "mean                 0.617522        0.327618  \n",
       "std                  0.787941        0.469357  \n",
       "min                  0.000000        0.000000  \n",
       "25%                  0.000000        0.000000  \n",
       "50%                  0.000000        0.000000  \n",
       "75%                  1.000000        1.000000  \n",
       "max                  5.000000        1.000000  "
      ]
     },
     "execution_count": 10,
     "metadata": {},
     "output_type": "execute_result"
    }
   ],
   "source": [
    "train.describe()"
   ]
  },
  {
   "cell_type": "code",
   "execution_count": 11,
   "id": "ed8b9577",
   "metadata": {},
   "outputs": [
    {
     "data": {
      "text/plain": [
       "Index(['no_of_adults', 'no_of_children', 'no_of_weekend_nights',\n",
       "       'no_of_week_nights', 'type_of_meal_plan', 'required_car_parking_space',\n",
       "       'room_type_reserved', 'lead_time', 'arrival_year', 'arrival_month',\n",
       "       'arrival_date', 'market_segment_type', 'repeated_guest',\n",
       "       'no_of_previous_cancellations', 'no_of_previous_bookings_not_canceled',\n",
       "       'avg_price_per_room', 'no_of_special_requests', 'booking_status'],\n",
       "      dtype='object')"
      ]
     },
     "execution_count": 11,
     "metadata": {},
     "output_type": "execute_result"
    }
   ],
   "source": [
    "train.columns"
   ]
  },
  {
   "cell_type": "code",
   "execution_count": 12,
   "id": "064ebb62",
   "metadata": {},
   "outputs": [
    {
     "name": "stdout",
     "output_type": "stream",
     "text": [
      "no_of_adults\n",
      "2    13104\n",
      "1     3809\n",
      "3     1150\n",
      "0       67\n",
      "4        7\n",
      "Name: no_of_adults, dtype: int64\n",
      "no_of_children\n",
      "0    16767\n",
      "1      814\n",
      "2      544\n",
      "3       10\n",
      "9        2\n",
      "Name: no_of_children, dtype: int64\n",
      "no_of_weekend_nights\n",
      "0    8444\n",
      "1    4985\n",
      "2    4535\n",
      "3      84\n",
      "4      56\n",
      "5      19\n",
      "6      13\n",
      "7       1\n",
      "Name: no_of_weekend_nights, dtype: int64\n",
      "no_of_week_nights\n",
      "2     5696\n",
      "1     4727\n",
      "3     3926\n",
      "4     1505\n",
      "0     1208\n",
      "5      819\n",
      "6       90\n",
      "7       57\n",
      "10      31\n",
      "8       30\n",
      "9       19\n",
      "15       6\n",
      "11       6\n",
      "14       5\n",
      "12       5\n",
      "13       3\n",
      "17       3\n",
      "16       1\n",
      "Name: no_of_week_nights, dtype: int64\n",
      "type_of_meal_plan\n",
      "0    13979\n",
      "1     2543\n",
      "2     1612\n",
      "3        3\n",
      "Name: type_of_meal_plan, dtype: int64\n",
      "required_car_parking_space\n",
      "0    17563\n",
      "1      574\n",
      "Name: required_car_parking_space, dtype: int64\n",
      "room_type_reserved\n",
      "0    14061\n",
      "1     3031\n",
      "3      498\n",
      "2      344\n",
      "4      123\n",
      "5       77\n",
      "6        3\n",
      "Name: room_type_reserved, dtype: int64\n",
      "lead_time\n",
      "0      643\n",
      "1      550\n",
      "3      333\n",
      "2      332\n",
      "4      316\n",
      "      ... \n",
      "300      1\n",
      "352      1\n",
      "293      1\n",
      "348      1\n",
      "325      1\n",
      "Name: lead_time, Length: 341, dtype: int64\n",
      "arrival_year\n",
      "2018    14885\n",
      "2017     3252\n",
      "Name: arrival_year, dtype: int64\n",
      "arrival_month\n",
      "10    2678\n",
      "9     2301\n",
      "8     1868\n",
      "6     1607\n",
      "12    1535\n",
      "11    1505\n",
      "7     1422\n",
      "4     1386\n",
      "5     1305\n",
      "3     1176\n",
      "2      853\n",
      "1      501\n",
      "Name: arrival_month, dtype: int64\n",
      "arrival_date\n",
      "13    702\n",
      "2     672\n",
      "17    665\n",
      "19    657\n",
      "4     656\n",
      "16    649\n",
      "20    642\n",
      "6     622\n",
      "30    616\n",
      "15    614\n",
      "18    600\n",
      "12    595\n",
      "29    594\n",
      "25    593\n",
      "8     591\n",
      "14    590\n",
      "26    580\n",
      "11    578\n",
      "28    575\n",
      "5     574\n",
      "1     570\n",
      "27    566\n",
      "10    566\n",
      "21    557\n",
      "9     552\n",
      "3     548\n",
      "24    541\n",
      "7     537\n",
      "22    520\n",
      "23    518\n",
      "31    297\n",
      "Name: arrival_date, dtype: int64\n",
      "market_segment_type\n",
      "1    11622\n",
      "0     5238\n",
      "2     1029\n",
      "4      198\n",
      "3       50\n",
      "Name: market_segment_type, dtype: int64\n",
      "repeated_guest\n",
      "0    17682\n",
      "1      455\n",
      "Name: repeated_guest, dtype: int64\n",
      "no_of_previous_cancellations\n",
      "0     17987\n",
      "1        80\n",
      "3        23\n",
      "2        22\n",
      "11       13\n",
      "4         6\n",
      "5         3\n",
      "13        2\n",
      "6         1\n",
      "Name: no_of_previous_cancellations, dtype: int64\n",
      "no_of_previous_bookings_not_canceled\n",
      "0     17731\n",
      "1       116\n",
      "2        54\n",
      "3        40\n",
      "4        33\n",
      "5        29\n",
      "6        17\n",
      "8        15\n",
      "7        13\n",
      "10        9\n",
      "11        8\n",
      "12        7\n",
      "16        6\n",
      "9         6\n",
      "18        5\n",
      "14        5\n",
      "13        4\n",
      "20        4\n",
      "22        3\n",
      "23        2\n",
      "15        2\n",
      "21        2\n",
      "17        2\n",
      "34        1\n",
      "25        1\n",
      "26        1\n",
      "32        1\n",
      "48        1\n",
      "58        1\n",
      "30        1\n",
      "47        1\n",
      "46        1\n",
      "41        1\n",
      "33        1\n",
      "27        1\n",
      "19        1\n",
      "31        1\n",
      "24        1\n",
      "43        1\n",
      "45        1\n",
      "50        1\n",
      "36        1\n",
      "37        1\n",
      "44        1\n",
      "35        1\n",
      "28        1\n",
      "51        1\n",
      "Name: no_of_previous_bookings_not_canceled, dtype: int64\n",
      "avg_price_per_room\n",
      "65.00     442\n",
      "75.00     434\n",
      "90.00     348\n",
      "95.00     339\n",
      "115.00    326\n",
      "         ... \n",
      "53.45       1\n",
      "170.61      1\n",
      "74.48       1\n",
      "56.94       1\n",
      "148.60      1\n",
      "Name: avg_price_per_room, Length: 2722, dtype: int64\n",
      "no_of_special_requests\n",
      "0    9934\n",
      "1    5637\n",
      "2    2191\n",
      "3     323\n",
      "4      48\n",
      "5       4\n",
      "Name: no_of_special_requests, dtype: int64\n",
      "booking_status\n",
      "0    12195\n",
      "1     5942\n",
      "Name: booking_status, dtype: int64\n"
     ]
    }
   ],
   "source": [
    "for i in train.columns:\n",
    "    print(i)\n",
    "    print(train[i].value_counts())"
   ]
  },
  {
   "cell_type": "code",
   "execution_count": 13,
   "id": "a8e94fde",
   "metadata": {},
   "outputs": [
    {
     "data": {
      "text/plain": [
       "(0.0, 540.0)"
      ]
     },
     "execution_count": 13,
     "metadata": {},
     "output_type": "execute_result"
    }
   ],
   "source": [
    "train['avg_price_per_room'].min(), train['avg_price_per_room'].max()"
   ]
  },
  {
   "cell_type": "code",
   "execution_count": 14,
   "id": "9bca1657",
   "metadata": {},
   "outputs": [
    {
     "data": {
      "text/plain": [
       "(0, 58)"
      ]
     },
     "execution_count": 14,
     "metadata": {},
     "output_type": "execute_result"
    }
   ],
   "source": [
    "train['no_of_previous_bookings_not_canceled'].min(), train['no_of_previous_bookings_not_canceled'].max()"
   ]
  },
  {
   "cell_type": "code",
   "execution_count": 15,
   "id": "f1d2cc9a",
   "metadata": {},
   "outputs": [
    {
     "data": {
      "text/plain": [
       "(0, 443)"
      ]
     },
     "execution_count": 15,
     "metadata": {},
     "output_type": "execute_result"
    }
   ],
   "source": [
    "train['lead_time'].min(), train['lead_time'].max()"
   ]
  },
  {
   "cell_type": "code",
   "execution_count": 16,
   "id": "c2fe1900",
   "metadata": {},
   "outputs": [
    {
     "data": {
      "text/plain": [
       "Text(0.5, 1.0, 'Pie chart showing the distribution of Booking Status into number of Cancellation/Non Cancellation ')"
      ]
     },
     "execution_count": 16,
     "metadata": {},
     "output_type": "execute_result"
    },
    {
     "data": {
      "image/png": "[encoded data removed]",
      "text/plain": [
       "<Figure size 500x500 with 1 Axes>"
      ]
     },
     "metadata": {},
     "output_type": "display_data"
    }
   ],
   "source": [
    "plt.figure(figsize = (5,5))\n",
    "\n",
    "a = train['booking_status'].value_counts()\n",
    "plt.pie(x = a, data = train, labels= ['Non Cancellation','Cancellation'], autopct='%.0f%%',colors = 'gr')\n",
    "plt.title(\"Pie chart showing the distribution of Booking Status into number of Cancellation/Non Cancellation \")"
   ]
  },
  {
   "cell_type": "code",
   "execution_count": 17,
   "id": "31a779af",
   "metadata": {},
   "outputs": [
    {
     "data": {
      "text/plain": [
       "array([[<Axes: title={'center': 'no_of_adults'}>,\n",
       "        <Axes: title={'center': 'no_of_children'}>,\n",
       "        <Axes: title={'center': 'no_of_weekend_nights'}>,\n",
       "        <Axes: title={'center': 'no_of_week_nights'}>],\n",
       "       [<Axes: title={'center': 'type_of_meal_plan'}>,\n",
       "        <Axes: title={'center': 'required_car_parking_space'}>,\n",
       "        <Axes: title={'center': 'room_type_reserved'}>,\n",
       "        <Axes: title={'center': 'lead_time'}>],\n",
       "       [<Axes: title={'center': 'arrival_year'}>,\n",
       "        <Axes: title={'center': 'arrival_month'}>,\n",
       "        <Axes: title={'center': 'arrival_date'}>,\n",
       "        <Axes: title={'center': 'market_segment_type'}>],\n",
       "       [<Axes: title={'center': 'repeated_guest'}>,\n",
       "        <Axes: title={'center': 'no_of_previous_cancellations'}>,\n",
       "        <Axes: title={'center': 'no_of_previous_bookings_not_canceled'}>,\n",
       "        <Axes: title={'center': 'avg_price_per_room'}>],\n",
       "       [<Axes: title={'center': 'no_of_special_requests'}>,\n",
       "        <Axes: title={'center': 'booking_status'}>, <Axes: >, <Axes: >]],\n",
       "      dtype=object)"
      ]
     },
     "execution_count": 17,
     "metadata": {},
     "output_type": "execute_result"
    },
    {
     "data": {
      "image/png": "[encoded data removed]",
      "text/plain": [
       "<Figure size 1800x1800 with 20 Axes>"
      ]
     },
     "metadata": {},
     "output_type": "display_data"
    }
   ],
   "source": [
    "train.hist(bins=5, figsize=(18,18))"
   ]
  },
  {
   "cell_type": "code",
   "execution_count": 18,
   "id": "8ae20fe7",
   "metadata": {},
   "outputs": [],
   "source": [
    "def countplot_of_2(x,hue,title=None,figsize=(6,5)):\n",
    "    plt.figure(figsize=figsize)\n",
    "    sns.countplot(data=train[[x,hue]],x=x,hue=hue)\n",
    "    plt.title(title)\n",
    "    plt.show()"
   ]
  },
  {
   "cell_type": "code",
   "execution_count": 20,
   "id": "fb103825",
   "metadata": {},
   "outputs": [
    {
     "data": {
      "image/png": "[encoded data removed]",
      "text/plain": [
       "<Figure size 600x500 with 1 Axes>"
      ]
     },
     "metadata": {},
     "output_type": "display_data"
    }
   ],
   "source": [
    "countplot_of_2('booking_status','no_of_adults', 'Countplot for No. of adults vs booking status')"
   ]
  },
  {
   "cell_type": "code",
   "execution_count": 21,
   "id": "f9951a4a",
   "metadata": {},
   "outputs": [
    {
     "data": {
      "image/png": "[encoded data removed]",
      "text/plain": [
       "<Figure size 640x480 with 1 Axes>"
      ]
     },
     "metadata": {},
     "output_type": "display_data"
    }
   ],
   "source": [
    "sns.scatterplot(data = train, x = \"type_of_meal_plan\", y = \"booking_status\")\n",
    "\n",
    "plt.show()"
   ]
  },
  {
   "cell_type": "code",
   "execution_count": 22,
   "id": "7a75626a",
   "metadata": {},
   "outputs": [
    {
     "data": {
      "image/png": "[encoded data removed]",
      "text/plain": [
       "<Figure size 616.236x500 with 1 Axes>"
      ]
     },
     "metadata": {},
     "output_type": "display_data"
    }
   ],
   "source": [
    "sns.catplot(data = train, x = \"type_of_meal_plan\", y = \"no_of_adults\", hue='booking_status')\n",
    "\n",
    "plt.show()"
   ]
  },
  {
   "cell_type": "code",
   "execution_count": 23,
   "id": "293428fc",
   "metadata": {},
   "outputs": [
    {
     "data": {
      "text/html": [
       "<style type=\"text/css\">\n",
       "#T_c71cb_row0_col0, #T_c71cb_row1_col1, #T_c71cb_row2_col2, #T_c71cb_row3_col3, #T_c71cb_row4_col4, #T_c71cb_row5_col5, #T_c71cb_row6_col6, #T_c71cb_row7_col7, #T_c71cb_row8_col8, #T_c71cb_row9_col9, #T_c71cb_row10_col10, #T_c71cb_row11_col11, #T_c71cb_row12_col12, #T_c71cb_row13_col13, #T_c71cb_row14_col14, #T_c71cb_row15_col15, #T_c71cb_row16_col16, #T_c71cb_row17_col17 {\n",
       "  background-color: #b40426;\n",
       "  color: #f1f1f1;\n",
       "}\n",
       "#T_c71cb_row0_col1, #T_c71cb_row7_col10, #T_c71cb_row9_col2, #T_c71cb_row10_col13, #T_c71cb_row11_col2, #T_c71cb_row17_col10 {\n",
       "  background-color: #485fd1;\n",
       "  color: #f1f1f1;\n",
       "}\n",
       "#T_c71cb_row0_col2, #T_c71cb_row6_col3, #T_c71cb_row17_col6 {\n",
       "  background-color: #688aef;\n",
       "  color: #f1f1f1;\n",
       "}\n",
       "#T_c71cb_row0_col3, #T_c71cb_row4_col15, #T_c71cb_row9_col0, #T_c71cb_row16_col1 {\n",
       "  background-color: #7597f6;\n",
       "  color: #f1f1f1;\n",
       "}\n",
       "#T_c71cb_row0_col4, #T_c71cb_row6_col12, #T_c71cb_row10_col12, #T_c71cb_row16_col7 {\n",
       "  background-color: #6c8ff1;\n",
       "  color: #f1f1f1;\n",
       "}\n",
       "#T_c71cb_row0_col5, #T_c71cb_row6_col2, #T_c71cb_row13_col15, #T_c71cb_row17_col1 {\n",
       "  background-color: #5875e1;\n",
       "  color: #f1f1f1;\n",
       "}\n",
       "#T_c71cb_row0_col6, #T_c71cb_row4_col9, #T_c71cb_row11_col6, #T_c71cb_row17_col15 {\n",
       "  background-color: #94b6ff;\n",
       "  color: #000000;\n",
       "}\n",
       "#T_c71cb_row0_col7, #T_c71cb_row0_col8, #T_c71cb_row15_col17, #T_c71cb_row16_col0 {\n",
       "  background-color: #a3c2fe;\n",
       "  color: #000000;\n",
       "}\n",
       "#T_c71cb_row0_col9, #T_c71cb_row5_col16 {\n",
       "  background-color: #93b5fe;\n",
       "  color: #000000;\n",
       "}\n",
       "#T_c71cb_row0_col10 {\n",
       "  background-color: #4c66d6;\n",
       "  color: #f1f1f1;\n",
       "}\n",
       "#T_c71cb_row0_col11, #T_c71cb_row5_col14, #T_c71cb_row9_col12, #T_c71cb_row11_col17, #T_c71cb_row16_col5 {\n",
       "  background-color: #6e90f2;\n",
       "  color: #f1f1f1;\n",
       "}\n",
       "#T_c71cb_row0_col12, #T_c71cb_row0_col14, #T_c71cb_row4_col1, #T_c71cb_row4_col6, #T_c71cb_row7_col11, #T_c71cb_row8_col9, #T_c71cb_row9_col8, #T_c71cb_row9_col10, #T_c71cb_row11_col4, #T_c71cb_row11_col7, #T_c71cb_row12_col0, #T_c71cb_row12_col2, #T_c71cb_row12_col3, #T_c71cb_row12_col15, #T_c71cb_row15_col13, #T_c71cb_row16_col17, #T_c71cb_row17_col5, #T_c71cb_row17_col16 {\n",
       "  background-color: #3b4cc0;\n",
       "  color: #f1f1f1;\n",
       "}\n",
       "#T_c71cb_row0_col13, #T_c71cb_row4_col3, #T_c71cb_row7_col13, #T_c71cb_row9_col13 {\n",
       "  background-color: #3f53c6;\n",
       "  color: #f1f1f1;\n",
       "}\n",
       "#T_c71cb_row0_col15 {\n",
       "  background-color: #bfd3f6;\n",
       "  color: #000000;\n",
       "}\n",
       "#T_c71cb_row0_col16, #T_c71cb_row4_col7 {\n",
       "  background-color: #adc9fd;\n",
       "  color: #000000;\n",
       "}\n",
       "#T_c71cb_row0_col17, #T_c71cb_row2_col7, #T_c71cb_row3_col17, #T_c71cb_row14_col8 {\n",
       "  background-color: #96b7ff;\n",
       "  color: #000000;\n",
       "}\n",
       "#T_c71cb_row1_col0, #T_c71cb_row8_col12, #T_c71cb_row9_col4, #T_c71cb_row10_col4, #T_c71cb_row14_col17, #T_c71cb_row16_col12 {\n",
       "  background-color: #6a8bef;\n",
       "  color: #f1f1f1;\n",
       "}\n",
       "#T_c71cb_row1_col2, #T_c71cb_row3_col1, #T_c71cb_row10_col1, #T_c71cb_row10_col3 {\n",
       "  background-color: #536edd;\n",
       "  color: #f1f1f1;\n",
       "}\n",
       "#T_c71cb_row1_col3, #T_c71cb_row8_col1, #T_c71cb_row10_col14 {\n",
       "  background-color: #5a78e4;\n",
       "  color: #f1f1f1;\n",
       "}\n",
       "#T_c71cb_row1_col4, #T_c71cb_row10_col2, #T_c71cb_row10_col5, #T_c71cb_row12_col4, #T_c71cb_row17_col12 {\n",
       "  background-color: #516ddb;\n",
       "  color: #f1f1f1;\n",
       "}\n",
       "#T_c71cb_row1_col5, #T_c71cb_row4_col12, #T_c71cb_row6_col14, #T_c71cb_row8_col2 {\n",
       "  background-color: #5b7ae5;\n",
       "  color: #f1f1f1;\n",
       "}\n",
       "#T_c71cb_row1_col6 {\n",
       "  background-color: #e9d5cb;\n",
       "  color: #000000;\n",
       "}\n",
       "#T_c71cb_row1_col7 {\n",
       "  background-color: #7a9df8;\n",
       "  color: #f1f1f1;\n",
       "}\n",
       "#T_c71cb_row1_col8, #T_c71cb_row3_col9, #T_c71cb_row11_col14 {\n",
       "  background-color: #9abbff;\n",
       "  color: #000000;\n",
       "}\n",
       "#T_c71cb_row1_col9, #T_c71cb_row5_col12, #T_c71cb_row10_col8 {\n",
       "  background-color: #92b4fe;\n",
       "  color: #000000;\n",
       "}\n",
       "#T_c71cb_row1_col10, #T_c71cb_row4_col10, #T_c71cb_row7_col6, #T_c71cb_row7_col12, #T_c71cb_row17_col14 {\n",
       "  background-color: #4a63d3;\n",
       "  color: #f1f1f1;\n",
       "}\n",
       "#T_c71cb_row1_col11 {\n",
       "  background-color: #9ebeff;\n",
       "  color: #000000;\n",
       "}\n",
       "#T_c71cb_row1_col12, #T_c71cb_row11_col1, #T_c71cb_row12_col7 {\n",
       "  background-color: #6485ec;\n",
       "  color: #f1f1f1;\n",
       "}\n",
       "#T_c71cb_row1_col13, #T_c71cb_row2_col13, #T_c71cb_row8_col10, #T_c71cb_row11_col10, #T_c71cb_row13_col2, #T_c71cb_row14_col1, #T_c71cb_row15_col10 {\n",
       "  background-color: #465ecf;\n",
       "  color: #f1f1f1;\n",
       "}\n",
       "#T_c71cb_row1_col14, #T_c71cb_row2_col1, #T_c71cb_row3_col12, #T_c71cb_row5_col1, #T_c71cb_row7_col15, #T_c71cb_row16_col4 {\n",
       "  background-color: #5572df;\n",
       "  color: #f1f1f1;\n",
       "}\n",
       "#T_c71cb_row1_col15 {\n",
       "  background-color: #ccd9ed;\n",
       "  color: #000000;\n",
       "}\n",
       "#T_c71cb_row1_col16, #T_c71cb_row6_col0, #T_c71cb_row8_col11 {\n",
       "  background-color: #9fbfff;\n",
       "  color: #000000;\n",
       "}\n",
       "#T_c71cb_row1_col17, #T_c71cb_row2_col11, #T_c71cb_row3_col16, #T_c71cb_row10_col9, #T_c71cb_row11_col9 {\n",
       "  background-color: #85a8fc;\n",
       "  color: #f1f1f1;\n",
       "}\n",
       "#T_c71cb_row2_col0, #T_c71cb_row2_col9, #T_c71cb_row2_col17, #T_c71cb_row7_col0, #T_c71cb_row10_col7, #T_c71cb_row17_col9 {\n",
       "  background-color: #8caffe;\n",
       "  color: #000000;\n",
       "}\n",
       "#T_c71cb_row2_col3, #T_c71cb_row4_col17, #T_c71cb_row5_col8, #T_c71cb_row6_col9, #T_c71cb_row13_col8 {\n",
       "  background-color: #90b2fe;\n",
       "  color: #000000;\n",
       "}\n",
       "#T_c71cb_row2_col4, #T_c71cb_row2_col14, #T_c71cb_row8_col5, #T_c71cb_row9_col14 {\n",
       "  background-color: #5673e0;\n",
       "  color: #f1f1f1;\n",
       "}\n",
       "#T_c71cb_row2_col5, #T_c71cb_row2_col10, #T_c71cb_row6_col13, #T_c71cb_row16_col10 {\n",
       "  background-color: #4b64d5;\n",
       "  color: #f1f1f1;\n",
       "}\n",
       "#T_c71cb_row2_col6 {\n",
       "  background-color: #6f92f3;\n",
       "  color: #f1f1f1;\n",
       "}\n",
       "#T_c71cb_row2_col8, #T_c71cb_row6_col16, #T_c71cb_row15_col9 {\n",
       "  background-color: #9dbdff;\n",
       "  color: #000000;\n",
       "}\n",
       "#T_c71cb_row2_col12, #T_c71cb_row5_col4, #T_c71cb_row6_col5, #T_c71cb_row7_col16, #T_c71cb_row12_col17, #T_c71cb_row15_col3 {\n",
       "  background-color: #5e7de7;\n",
       "  color: #f1f1f1;\n",
       "}\n",
       "#T_c71cb_row2_col15, #T_c71cb_row14_col5, #T_c71cb_row15_col5 {\n",
       "  background-color: #6788ee;\n",
       "  color: #f1f1f1;\n",
       "}\n",
       "#T_c71cb_row2_col16, #T_c71cb_row5_col9, #T_c71cb_row10_col11, #T_c71cb_row14_col9, #T_c71cb_row17_col0 {\n",
       "  background-color: #8badfd;\n",
       "  color: #000000;\n",
       "}\n",
       "#T_c71cb_row3_col0, #T_c71cb_row7_col4, #T_c71cb_row12_col9 {\n",
       "  background-color: #8db0fe;\n",
       "  color: #000000;\n",
       "}\n",
       "#T_c71cb_row3_col2, #T_c71cb_row8_col0, #T_c71cb_row16_col6 {\n",
       "  background-color: #86a9fc;\n",
       "  color: #f1f1f1;\n",
       "}\n",
       "#T_c71cb_row3_col4, #T_c71cb_row3_col14, #T_c71cb_row4_col14, #T_c71cb_row9_col1, #T_c71cb_row9_col5 {\n",
       "  background-color: #4f69d9;\n",
       "  color: #f1f1f1;\n",
       "}\n",
       "#T_c71cb_row3_col5, #T_c71cb_row4_col13, #T_c71cb_row5_col3, #T_c71cb_row7_col14, #T_c71cb_row14_col2 {\n",
       "  background-color: #455cce;\n",
       "  color: #f1f1f1;\n",
       "}\n",
       "#T_c71cb_row3_col6, #T_c71cb_row4_col0, #T_c71cb_row11_col5, #T_c71cb_row12_col16, #T_c71cb_row15_col7 {\n",
       "  background-color: #7699f6;\n",
       "  color: #f1f1f1;\n",
       "}\n",
       "#T_c71cb_row3_col7, #T_c71cb_row8_col7 {\n",
       "  background-color: #afcafc;\n",
       "  color: #000000;\n",
       "}\n",
       "#T_c71cb_row3_col8, #T_c71cb_row9_col16 {\n",
       "  background-color: #98b9ff;\n",
       "  color: #000000;\n",
       "}\n",
       "#T_c71cb_row3_col10, #T_c71cb_row5_col10, #T_c71cb_row12_col1, #T_c71cb_row17_col13 {\n",
       "  background-color: #4257c9;\n",
       "  color: #f1f1f1;\n",
       "}\n",
       "#T_c71cb_row3_col11, #T_c71cb_row4_col8, #T_c71cb_row8_col6, #T_c71cb_row9_col15, #T_c71cb_row13_col16 {\n",
       "  background-color: #799cf8;\n",
       "  color: #f1f1f1;\n",
       "}\n",
       "#T_c71cb_row3_col13, #T_c71cb_row11_col3 {\n",
       "  background-color: #445acc;\n",
       "  color: #f1f1f1;\n",
       "}\n",
       "#T_c71cb_row3_col15, #T_c71cb_row5_col0, #T_c71cb_row13_col17, #T_c71cb_row17_col3 {\n",
       "  background-color: #7295f4;\n",
       "  color: #f1f1f1;\n",
       "}\n",
       "#T_c71cb_row4_col2, #T_c71cb_row6_col4 {\n",
       "  background-color: #3d50c3;\n",
       "  color: #f1f1f1;\n",
       "}\n",
       "#T_c71cb_row4_col5, #T_c71cb_row6_col10, #T_c71cb_row8_col4, #T_c71cb_row8_col13, #T_c71cb_row13_col3, #T_c71cb_row14_col0 {\n",
       "  background-color: #4e68d8;\n",
       "  color: #f1f1f1;\n",
       "}\n",
       "#T_c71cb_row4_col11, #T_c71cb_row8_col3, #T_c71cb_row13_col4, #T_c71cb_row16_col3, #T_c71cb_row16_col14 {\n",
       "  background-color: #5f7fe8;\n",
       "  color: #f1f1f1;\n",
       "}\n",
       "#T_c71cb_row4_col16, #T_c71cb_row5_col6, #T_c71cb_row10_col6, #T_c71cb_row10_col15 {\n",
       "  background-color: #6b8df0;\n",
       "  color: #f1f1f1;\n",
       "}\n",
       "#T_c71cb_row5_col2, #T_c71cb_row14_col10 {\n",
       "  background-color: #4358cb;\n",
       "  color: #f1f1f1;\n",
       "}\n",
       "#T_c71cb_row5_col7, #T_c71cb_row14_col7 {\n",
       "  background-color: #7396f5;\n",
       "  color: #f1f1f1;\n",
       "}\n",
       "#T_c71cb_row5_col11 {\n",
       "  background-color: #a6c4fe;\n",
       "  color: #000000;\n",
       "}\n",
       "#T_c71cb_row5_col13, #T_c71cb_row11_col0 {\n",
       "  background-color: #5470de;\n",
       "  color: #f1f1f1;\n",
       "}\n",
       "#T_c71cb_row5_col15, #T_c71cb_row17_col4, #T_c71cb_row17_col11 {\n",
       "  background-color: #7b9ff9;\n",
       "  color: #f1f1f1;\n",
       "}\n",
       "#T_c71cb_row5_col17, #T_c71cb_row11_col13, #T_c71cb_row12_col6 {\n",
       "  background-color: #6180e9;\n",
       "  color: #f1f1f1;\n",
       "}\n",
       "#T_c71cb_row6_col1, #T_c71cb_row13_col14 {\n",
       "  background-color: #e1dad6;\n",
       "  color: #000000;\n",
       "}\n",
       "#T_c71cb_row6_col7, #T_c71cb_row15_col4 {\n",
       "  background-color: #7093f3;\n",
       "  color: #f1f1f1;\n",
       "}\n",
       "#T_c71cb_row6_col8 {\n",
       "  background-color: #a2c1ff;\n",
       "  color: #000000;\n",
       "}\n",
       "#T_c71cb_row6_col11, #T_c71cb_row7_col8 {\n",
       "  background-color: #b5cdfa;\n",
       "  color: #000000;\n",
       "}\n",
       "#T_c71cb_row6_col15 {\n",
       "  background-color: #dcdddd;\n",
       "  color: #000000;\n",
       "}\n",
       "#T_c71cb_row6_col17 {\n",
       "  background-color: #81a4fb;\n",
       "  color: #f1f1f1;\n",
       "}\n",
       "#T_c71cb_row7_col1, #T_c71cb_row7_col5 {\n",
       "  background-color: #3e51c5;\n",
       "  color: #f1f1f1;\n",
       "}\n",
       "#T_c71cb_row7_col2, #T_c71cb_row14_col4 {\n",
       "  background-color: #5977e3;\n",
       "  color: #f1f1f1;\n",
       "}\n",
       "#T_c71cb_row7_col3, #T_c71cb_row10_col16 {\n",
       "  background-color: #82a6fb;\n",
       "  color: #f1f1f1;\n",
       "}\n",
       "#T_c71cb_row7_col9, #T_c71cb_row11_col16 {\n",
       "  background-color: #b3cdfb;\n",
       "  color: #000000;\n",
       "}\n",
       "#T_c71cb_row7_col17 {\n",
       "  background-color: #e8d6cc;\n",
       "  color: #000000;\n",
       "}\n",
       "#T_c71cb_row8_col14, #T_c71cb_row9_col6, #T_c71cb_row13_col0 {\n",
       "  background-color: #6384eb;\n",
       "  color: #f1f1f1;\n",
       "}\n",
       "#T_c71cb_row8_col15, #T_c71cb_row16_col15 {\n",
       "  background-color: #a1c0ff;\n",
       "  color: #000000;\n",
       "}\n",
       "#T_c71cb_row8_col16 {\n",
       "  background-color: #88abfd;\n",
       "  color: #000000;\n",
       "}\n",
       "#T_c71cb_row8_col17, #T_c71cb_row9_col7, #T_c71cb_row15_col16 {\n",
       "  background-color: #aec9fc;\n",
       "  color: #000000;\n",
       "}\n",
       "#T_c71cb_row9_col3, #T_c71cb_row13_col6, #T_c71cb_row14_col6 {\n",
       "  background-color: #6282ea;\n",
       "  color: #f1f1f1;\n",
       "}\n",
       "#T_c71cb_row9_col11, #T_c71cb_row10_col17, #T_c71cb_row14_col16 {\n",
       "  background-color: #7ea1fa;\n",
       "  color: #f1f1f1;\n",
       "}\n",
       "#T_c71cb_row9_col17, #T_c71cb_row10_col0, #T_c71cb_row12_col5 {\n",
       "  background-color: #779af7;\n",
       "  color: #f1f1f1;\n",
       "}\n",
       "#T_c71cb_row11_col8 {\n",
       "  background-color: #a5c3fe;\n",
       "  color: #000000;\n",
       "}\n",
       "#T_c71cb_row11_col12 {\n",
       "  background-color: #c6d6f1;\n",
       "  color: #000000;\n",
       "}\n",
       "#T_c71cb_row11_col15, #T_c71cb_row13_col5, #T_c71cb_row16_col2, #T_c71cb_row17_col2 {\n",
       "  background-color: #5d7ce6;\n",
       "  color: #f1f1f1;\n",
       "}\n",
       "#T_c71cb_row12_col8 {\n",
       "  background-color: #89acfd;\n",
       "  color: #000000;\n",
       "}\n",
       "#T_c71cb_row12_col10, #T_c71cb_row13_col10, #T_c71cb_row15_col12 {\n",
       "  background-color: #4055c8;\n",
       "  color: #f1f1f1;\n",
       "}\n",
       "#T_c71cb_row12_col11 {\n",
       "  background-color: #d5dbe5;\n",
       "  color: #000000;\n",
       "}\n",
       "#T_c71cb_row12_col13 {\n",
       "  background-color: #c4d5f3;\n",
       "  color: #000000;\n",
       "}\n",
       "#T_c71cb_row12_col14 {\n",
       "  background-color: #f2cbb7;\n",
       "  color: #000000;\n",
       "}\n",
       "#T_c71cb_row13_col1, #T_c71cb_row14_col3, #T_c71cb_row14_col15, #T_c71cb_row15_col2, #T_c71cb_row16_col13 {\n",
       "  background-color: #4961d2;\n",
       "  color: #f1f1f1;\n",
       "}\n",
       "#T_c71cb_row13_col7, #T_c71cb_row15_col11 {\n",
       "  background-color: #7da0f9;\n",
       "  color: #f1f1f1;\n",
       "}\n",
       "#T_c71cb_row13_col9 {\n",
       "  background-color: #84a7fc;\n",
       "  color: #f1f1f1;\n",
       "}\n",
       "#T_c71cb_row13_col11, #T_c71cb_row16_col8 {\n",
       "  background-color: #9bbcff;\n",
       "  color: #000000;\n",
       "}\n",
       "#T_c71cb_row13_col12 {\n",
       "  background-color: #d8dce2;\n",
       "  color: #000000;\n",
       "}\n",
       "#T_c71cb_row14_col11, #T_c71cb_row15_col8, #T_c71cb_row16_col11, #T_c71cb_row17_col8 {\n",
       "  background-color: #bed2f6;\n",
       "  color: #000000;\n",
       "}\n",
       "#T_c71cb_row14_col12 {\n",
       "  background-color: #f5c4ac;\n",
       "  color: #000000;\n",
       "}\n",
       "#T_c71cb_row14_col13 {\n",
       "  background-color: #dadce0;\n",
       "  color: #000000;\n",
       "}\n",
       "#T_c71cb_row15_col0 {\n",
       "  background-color: #c3d5f4;\n",
       "  color: #000000;\n",
       "}\n",
       "#T_c71cb_row15_col1 {\n",
       "  background-color: #bbd1f8;\n",
       "  color: #000000;\n",
       "}\n",
       "#T_c71cb_row15_col6 {\n",
       "  background-color: #d9dce1;\n",
       "  color: #000000;\n",
       "}\n",
       "#T_c71cb_row15_col14 {\n",
       "  background-color: #3c4ec2;\n",
       "  color: #f1f1f1;\n",
       "}\n",
       "#T_c71cb_row16_col9 {\n",
       "  background-color: #aac7fd;\n",
       "  color: #000000;\n",
       "}\n",
       "#T_c71cb_row17_col7 {\n",
       "  background-color: #edd2c3;\n",
       "  color: #000000;\n",
       "}\n",
       "</style>\n",
       "<table id=\"T_c71cb_\">\n",
       "  <thead>\n",
       "    <tr>\n",
       "      <th class=\"blank level0\" >&nbsp;</th>\n",
       "      <th class=\"col_heading level0 col0\" >no_of_adults</th>\n",
       "      <th class=\"col_heading level0 col1\" >no_of_children</th>\n",
       "      <th class=\"col_heading level0 col2\" >no_of_weekend_nights</th>\n",
       "      <th class=\"col_heading level0 col3\" >no_of_week_nights</th>\n",
       "      <th class=\"col_heading level0 col4\" >type_of_meal_plan</th>\n",
       "      <th class=\"col_heading level0 col5\" >required_car_parking_space</th>\n",
       "      <th class=\"col_heading level0 col6\" >room_type_reserved</th>\n",
       "      <th class=\"col_heading level0 col7\" >lead_time</th>\n",
       "      <th class=\"col_heading level0 col8\" >arrival_year</th>\n",
       "      <th class=\"col_heading level0 col9\" >arrival_month</th>\n",
       "      <th class=\"col_heading level0 col10\" >arrival_date</th>\n",
       "      <th class=\"col_heading level0 col11\" >market_segment_type</th>\n",
       "      <th class=\"col_heading level0 col12\" >repeated_guest</th>\n",
       "      <th class=\"col_heading level0 col13\" >no_of_previous_cancellations</th>\n",
       "      <th class=\"col_heading level0 col14\" >no_of_previous_bookings_not_canceled</th>\n",
       "      <th class=\"col_heading level0 col15\" >avg_price_per_room</th>\n",
       "      <th class=\"col_heading level0 col16\" >no_of_special_requests</th>\n",
       "      <th class=\"col_heading level0 col17\" >booking_status</th>\n",
       "    </tr>\n",
       "  </thead>\n",
       "  <tbody>\n",
       "    <tr>\n",
       "      <th id=\"T_c71cb_level0_row0\" class=\"row_heading level0 row0\" >no_of_adults</th>\n",
       "      <td id=\"T_c71cb_row0_col0\" class=\"data row0 col0\" >1.000000</td>\n",
       "      <td id=\"T_c71cb_row0_col1\" class=\"data row0 col1\" >-0.017565</td>\n",
       "      <td id=\"T_c71cb_row0_col2\" class=\"data row0 col2\" >0.098241</td>\n",
       "      <td id=\"T_c71cb_row0_col3\" class=\"data row0 col3\" >0.103135</td>\n",
       "      <td id=\"T_c71cb_row0_col4\" class=\"data row0 col4\" >0.025139</td>\n",
       "      <td id=\"T_c71cb_row0_col5\" class=\"data row0 col5\" >0.010956</td>\n",
       "      <td id=\"T_c71cb_row0_col6\" class=\"data row0 col6\" >0.163542</td>\n",
       "      <td id=\"T_c71cb_row0_col7\" class=\"data row0 col7\" >0.098254</td>\n",
       "      <td id=\"T_c71cb_row0_col8\" class=\"data row0 col8\" >0.077915</td>\n",
       "      <td id=\"T_c71cb_row0_col9\" class=\"data row0 col9\" >0.018254</td>\n",
       "      <td id=\"T_c71cb_row0_col10\" class=\"data row0 col10\" >0.028433</td>\n",
       "      <td id=\"T_c71cb_row0_col11\" class=\"data row0 col11\" >-0.098518</td>\n",
       "      <td id=\"T_c71cb_row0_col12\" class=\"data row0 col12\" >-0.198334</td>\n",
       "      <td id=\"T_c71cb_row0_col13\" class=\"data row0 col13\" >-0.043494</td>\n",
       "      <td id=\"T_c71cb_row0_col14\" class=\"data row0 col14\" >-0.119703</td>\n",
       "      <td id=\"T_c71cb_row0_col15\" class=\"data row0 col15\" >0.292910</td>\n",
       "      <td id=\"T_c71cb_row0_col16\" class=\"data row0 col16\" >0.179970</td>\n",
       "      <td id=\"T_c71cb_row0_col17\" class=\"data row0 col17\" >0.094354</td>\n",
       "    </tr>\n",
       "    <tr>\n",
       "      <th id=\"T_c71cb_level0_row1\" class=\"row_heading level0 row1\" >no_of_children</th>\n",
       "      <td id=\"T_c71cb_row1_col0\" class=\"data row1 col0\" >-0.017565</td>\n",
       "      <td id=\"T_c71cb_row1_col1\" class=\"data row1 col1\" >1.000000</td>\n",
       "      <td id=\"T_c71cb_row1_col2\" class=\"data row1 col2\" >0.026761</td>\n",
       "      <td id=\"T_c71cb_row1_col3\" class=\"data row1 col3\" >0.018957</td>\n",
       "      <td id=\"T_c71cb_row1_col4\" class=\"data row1 col4\" >-0.066445</td>\n",
       "      <td id=\"T_c71cb_row1_col5\" class=\"data row1 col5\" >0.026409</td>\n",
       "      <td id=\"T_c71cb_row1_col6\" class=\"data row1 col6\" >0.484223</td>\n",
       "      <td id=\"T_c71cb_row1_col7\" class=\"data row1 col7\" >-0.051646</td>\n",
       "      <td id=\"T_c71cb_row1_col8\" class=\"data row1 col8\" >0.044164</td>\n",
       "      <td id=\"T_c71cb_row1_col9\" class=\"data row1 col9\" >0.008244</td>\n",
       "      <td id=\"T_c71cb_row1_col10\" class=\"data row1 col10\" >0.020804</td>\n",
       "      <td id=\"T_c71cb_row1_col11\" class=\"data row1 col11\" >0.078264</td>\n",
       "      <td id=\"T_c71cb_row1_col12\" class=\"data row1 col12\" >-0.037868</td>\n",
       "      <td id=\"T_c71cb_row1_col13\" class=\"data row1 col13\" >-0.015580</td>\n",
       "      <td id=\"T_c71cb_row1_col14\" class=\"data row1 col14\" >-0.021495</td>\n",
       "      <td id=\"T_c71cb_row1_col15\" class=\"data row1 col15\" >0.342425</td>\n",
       "      <td id=\"T_c71cb_row1_col16\" class=\"data row1 col16\" >0.128325</td>\n",
       "      <td id=\"T_c71cb_row1_col17\" class=\"data row1 col17\" >0.035093</td>\n",
       "    </tr>\n",
       "    <tr>\n",
       "      <th id=\"T_c71cb_level0_row2\" class=\"row_heading level0 row2\" >no_of_weekend_nights</th>\n",
       "      <td id=\"T_c71cb_row2_col0\" class=\"data row2 col0\" >0.098241</td>\n",
       "      <td id=\"T_c71cb_row2_col1\" class=\"data row2 col1\" >0.026761</td>\n",
       "      <td id=\"T_c71cb_row2_col2\" class=\"data row2 col2\" >1.000000</td>\n",
       "      <td id=\"T_c71cb_row2_col3\" class=\"data row2 col3\" >0.188796</td>\n",
       "      <td id=\"T_c71cb_row2_col4\" class=\"data row2 col4\" >-0.048357</td>\n",
       "      <td id=\"T_c71cb_row2_col5\" class=\"data row2 col5\" >-0.029054</td>\n",
       "      <td id=\"T_c71cb_row2_col6\" class=\"data row2 col6\" >0.044741</td>\n",
       "      <td id=\"T_c71cb_row2_col7\" class=\"data row2 col7\" >0.047559</td>\n",
       "      <td id=\"T_c71cb_row2_col8\" class=\"data row2 col8\" >0.054914</td>\n",
       "      <td id=\"T_c71cb_row2_col9\" class=\"data row2 col9\" >-0.010060</td>\n",
       "      <td id=\"T_c71cb_row2_col10\" class=\"data row2 col10\" >0.024026</td>\n",
       "      <td id=\"T_c71cb_row2_col11\" class=\"data row2 col11\" >-0.011626</td>\n",
       "      <td id=\"T_c71cb_row2_col12\" class=\"data row2 col12\" >-0.058549</td>\n",
       "      <td id=\"T_c71cb_row2_col13\" class=\"data row2 col13\" >-0.015543</td>\n",
       "      <td id=\"T_c71cb_row2_col14\" class=\"data row2 col14\" >-0.018829</td>\n",
       "      <td id=\"T_c71cb_row2_col15\" class=\"data row2 col15\" >-0.005837</td>\n",
       "      <td id=\"T_c71cb_row2_col16\" class=\"data row2 col16\" >0.057814</td>\n",
       "      <td id=\"T_c71cb_row2_col17\" class=\"data row2 col17\" >0.061117</td>\n",
       "    </tr>\n",
       "    <tr>\n",
       "      <th id=\"T_c71cb_level0_row3\" class=\"row_heading level0 row3\" >no_of_week_nights</th>\n",
       "      <td id=\"T_c71cb_row3_col0\" class=\"data row3 col0\" >0.103135</td>\n",
       "      <td id=\"T_c71cb_row3_col1\" class=\"data row3 col1\" >0.018957</td>\n",
       "      <td id=\"T_c71cb_row3_col2\" class=\"data row3 col2\" >0.188796</td>\n",
       "      <td id=\"T_c71cb_row3_col3\" class=\"data row3 col3\" >1.000000</td>\n",
       "      <td id=\"T_c71cb_row3_col4\" class=\"data row3 col4\" >-0.076067</td>\n",
       "      <td id=\"T_c71cb_row3_col5\" class=\"data row3 col5\" >-0.054087</td>\n",
       "      <td id=\"T_c71cb_row3_col6\" class=\"data row3 col6\" >0.066756</td>\n",
       "      <td id=\"T_c71cb_row3_col7\" class=\"data row3 col7\" >0.148348</td>\n",
       "      <td id=\"T_c71cb_row3_col8\" class=\"data row3 col8\" >0.037240</td>\n",
       "      <td id=\"T_c71cb_row3_col9\" class=\"data row3 col9\" >0.044170</td>\n",
       "      <td id=\"T_c71cb_row3_col10\" class=\"data row3 col10\" >-0.007471</td>\n",
       "      <td id=\"T_c71cb_row3_col11\" class=\"data row3 col11\" >-0.060650</td>\n",
       "      <td id=\"T_c71cb_row3_col12\" class=\"data row3 col12\" >-0.094936</td>\n",
       "      <td id=\"T_c71cb_row3_col13\" class=\"data row3 col13\" >-0.024761</td>\n",
       "      <td id=\"T_c71cb_row3_col14\" class=\"data row3 col14\" >-0.041108</td>\n",
       "      <td id=\"T_c71cb_row3_col15\" class=\"data row3 col15\" >0.029326</td>\n",
       "      <td id=\"T_c71cb_row3_col16\" class=\"data row3 col16\" >0.037413</td>\n",
       "      <td id=\"T_c71cb_row3_col17\" class=\"data row3 col17\" >0.096472</td>\n",
       "    </tr>\n",
       "    <tr>\n",
       "      <th id=\"T_c71cb_level0_row4\" class=\"row_heading level0 row4\" >type_of_meal_plan</th>\n",
       "      <td id=\"T_c71cb_row4_col0\" class=\"data row4 col0\" >0.025139</td>\n",
       "      <td id=\"T_c71cb_row4_col1\" class=\"data row4 col1\" >-0.066445</td>\n",
       "      <td id=\"T_c71cb_row4_col2\" class=\"data row4 col2\" >-0.048357</td>\n",
       "      <td id=\"T_c71cb_row4_col3\" class=\"data row4 col3\" >-0.076067</td>\n",
       "      <td id=\"T_c71cb_row4_col4\" class=\"data row4 col4\" >1.000000</td>\n",
       "      <td id=\"T_c71cb_row4_col5\" class=\"data row4 col5\" >-0.021426</td>\n",
       "      <td id=\"T_c71cb_row4_col6\" class=\"data row4 col6\" >-0.146645</td>\n",
       "      <td id=\"T_c71cb_row4_col7\" class=\"data row4 col7\" >0.134350</td>\n",
       "      <td id=\"T_c71cb_row4_col8\" class=\"data row4 col8\" >-0.083469</td>\n",
       "      <td id=\"T_c71cb_row4_col9\" class=\"data row4 col9\" >0.019607</td>\n",
       "      <td id=\"T_c71cb_row4_col10\" class=\"data row4 col10\" >0.019243</td>\n",
       "      <td id=\"T_c71cb_row4_col11\" class=\"data row4 col11\" >-0.156242</td>\n",
       "      <td id=\"T_c71cb_row4_col12\" class=\"data row4 col12\" >-0.068313</td>\n",
       "      <td id=\"T_c71cb_row4_col13\" class=\"data row4 col13\" >-0.018854</td>\n",
       "      <td id=\"T_c71cb_row4_col14\" class=\"data row4 col14\" >-0.042258</td>\n",
       "      <td id=\"T_c71cb_row4_col15\" class=\"data row4 col15\" >0.039359</td>\n",
       "      <td id=\"T_c71cb_row4_col16\" class=\"data row4 col16\" >-0.054258</td>\n",
       "      <td id=\"T_c71cb_row4_col17\" class=\"data row4 col17\" >0.076685</td>\n",
       "    </tr>\n",
       "    <tr>\n",
       "      <th id=\"T_c71cb_level0_row5\" class=\"row_heading level0 row5\" >required_car_parking_space</th>\n",
       "      <td id=\"T_c71cb_row5_col0\" class=\"data row5 col0\" >0.010956</td>\n",
       "      <td id=\"T_c71cb_row5_col1\" class=\"data row5 col1\" >0.026409</td>\n",
       "      <td id=\"T_c71cb_row5_col2\" class=\"data row5 col2\" >-0.029054</td>\n",
       "      <td id=\"T_c71cb_row5_col3\" class=\"data row5 col3\" >-0.054087</td>\n",
       "      <td id=\"T_c71cb_row5_col4\" class=\"data row5 col4\" >-0.021426</td>\n",
       "      <td id=\"T_c71cb_row5_col5\" class=\"data row5 col5\" >1.000000</td>\n",
       "      <td id=\"T_c71cb_row5_col6\" class=\"data row5 col6\" >0.031255</td>\n",
       "      <td id=\"T_c71cb_row5_col7\" class=\"data row5 col7\" >-0.076608</td>\n",
       "      <td id=\"T_c71cb_row5_col8\" class=\"data row5 col8\" >0.006502</td>\n",
       "      <td id=\"T_c71cb_row5_col9\" class=\"data row5 col9\" >-0.018159</td>\n",
       "      <td id=\"T_c71cb_row5_col10\" class=\"data row5 col10\" >-0.008735</td>\n",
       "      <td id=\"T_c71cb_row5_col11\" class=\"data row5 col11\" >0.109336</td>\n",
       "      <td id=\"T_c71cb_row5_col12\" class=\"data row5 col12\" >0.116001</td>\n",
       "      <td id=\"T_c71cb_row5_col13\" class=\"data row5 col13\" >0.027336</td>\n",
       "      <td id=\"T_c71cb_row5_col14\" class=\"data row5 col14\" >0.062674</td>\n",
       "      <td id=\"T_c71cb_row5_col15\" class=\"data row5 col15\" >0.062199</td>\n",
       "      <td id=\"T_c71cb_row5_col16\" class=\"data row5 col16\" >0.083360</td>\n",
       "      <td id=\"T_c71cb_row5_col17\" class=\"data row5 col17\" >-0.092640</td>\n",
       "    </tr>\n",
       "    <tr>\n",
       "      <th id=\"T_c71cb_level0_row6\" class=\"row_heading level0 row6\" >room_type_reserved</th>\n",
       "      <td id=\"T_c71cb_row6_col0\" class=\"data row6 col0\" >0.163542</td>\n",
       "      <td id=\"T_c71cb_row6_col1\" class=\"data row6 col1\" >0.484223</td>\n",
       "      <td id=\"T_c71cb_row6_col2\" class=\"data row6 col2\" >0.044741</td>\n",
       "      <td id=\"T_c71cb_row6_col3\" class=\"data row6 col3\" >0.066756</td>\n",
       "      <td id=\"T_c71cb_row6_col4\" class=\"data row6 col4\" >-0.146645</td>\n",
       "      <td id=\"T_c71cb_row6_col5\" class=\"data row6 col5\" >0.031255</td>\n",
       "      <td id=\"T_c71cb_row6_col6\" class=\"data row6 col6\" >1.000000</td>\n",
       "      <td id=\"T_c71cb_row6_col7\" class=\"data row6 col7\" >-0.088265</td>\n",
       "      <td id=\"T_c71cb_row6_col8\" class=\"data row6 col8\" >0.073680</td>\n",
       "      <td id=\"T_c71cb_row6_col9\" class=\"data row6 col9\" >0.003517</td>\n",
       "      <td id=\"T_c71cb_row6_col10\" class=\"data row6 col10\" >0.030617</td>\n",
       "      <td id=\"T_c71cb_row6_col11\" class=\"data row6 col11\" >0.165417</td>\n",
       "      <td id=\"T_c71cb_row6_col12\" class=\"data row6 col12\" >-0.006948</td>\n",
       "      <td id=\"T_c71cb_row6_col13\" class=\"data row6 col13\" >-0.001362</td>\n",
       "      <td id=\"T_c71cb_row6_col14\" class=\"data row6 col14\" >-0.001447</td>\n",
       "      <td id=\"T_c71cb_row6_col15\" class=\"data row6 col15\" >0.411577</td>\n",
       "      <td id=\"T_c71cb_row6_col16\" class=\"data row6 col16\" >0.121888</td>\n",
       "      <td id=\"T_c71cb_row6_col17\" class=\"data row6 col17\" >0.021723</td>\n",
       "    </tr>\n",
       "    <tr>\n",
       "      <th id=\"T_c71cb_level0_row7\" class=\"row_heading level0 row7\" >lead_time</th>\n",
       "      <td id=\"T_c71cb_row7_col0\" class=\"data row7 col0\" >0.098254</td>\n",
       "      <td id=\"T_c71cb_row7_col1\" class=\"data row7 col1\" >-0.051646</td>\n",
       "      <td id=\"T_c71cb_row7_col2\" class=\"data row7 col2\" >0.047559</td>\n",
       "      <td id=\"T_c71cb_row7_col3\" class=\"data row7 col3\" >0.148348</td>\n",
       "      <td id=\"T_c71cb_row7_col4\" class=\"data row7 col4\" >0.134350</td>\n",
       "      <td id=\"T_c71cb_row7_col5\" class=\"data row7 col5\" >-0.076608</td>\n",
       "      <td id=\"T_c71cb_row7_col6\" class=\"data row7 col6\" >-0.088265</td>\n",
       "      <td id=\"T_c71cb_row7_col7\" class=\"data row7 col7\" >1.000000</td>\n",
       "      <td id=\"T_c71cb_row7_col8\" class=\"data row7 col8\" >0.148482</td>\n",
       "      <td id=\"T_c71cb_row7_col9\" class=\"data row7 col9\" >0.140062</td>\n",
       "      <td id=\"T_c71cb_row7_col10\" class=\"data row7 col10\" >0.012856</td>\n",
       "      <td id=\"T_c71cb_row7_col11\" class=\"data row7 col11\" >-0.312090</td>\n",
       "      <td id=\"T_c71cb_row7_col12\" class=\"data row7 col12\" >-0.135079</td>\n",
       "      <td id=\"T_c71cb_row7_col13\" class=\"data row7 col13\" >-0.042747</td>\n",
       "      <td id=\"T_c71cb_row7_col14\" class=\"data row7 col14\" >-0.078664</td>\n",
       "      <td id=\"T_c71cb_row7_col15\" class=\"data row7 col15\" >-0.069985</td>\n",
       "      <td id=\"T_c71cb_row7_col16\" class=\"data row7 col16\" >-0.103707</td>\n",
       "      <td id=\"T_c71cb_row7_col17\" class=\"data row7 col17\" >0.434314</td>\n",
       "    </tr>\n",
       "    <tr>\n",
       "      <th id=\"T_c71cb_level0_row8\" class=\"row_heading level0 row8\" >arrival_year</th>\n",
       "      <td id=\"T_c71cb_row8_col0\" class=\"data row8 col0\" >0.077915</td>\n",
       "      <td id=\"T_c71cb_row8_col1\" class=\"data row8 col1\" >0.044164</td>\n",
       "      <td id=\"T_c71cb_row8_col2\" class=\"data row8 col2\" >0.054914</td>\n",
       "      <td id=\"T_c71cb_row8_col3\" class=\"data row8 col3\" >0.037240</td>\n",
       "      <td id=\"T_c71cb_row8_col4\" class=\"data row8 col4\" >-0.083469</td>\n",
       "      <td id=\"T_c71cb_row8_col5\" class=\"data row8 col5\" >0.006502</td>\n",
       "      <td id=\"T_c71cb_row8_col6\" class=\"data row8 col6\" >0.073680</td>\n",
       "      <td id=\"T_c71cb_row8_col7\" class=\"data row8 col7\" >0.148482</td>\n",
       "      <td id=\"T_c71cb_row8_col8\" class=\"data row8 col8\" >1.000000</td>\n",
       "      <td id=\"T_c71cb_row8_col9\" class=\"data row8 col9\" >-0.343696</td>\n",
       "      <td id=\"T_c71cb_row8_col10\" class=\"data row8 col10\" >0.008437</td>\n",
       "      <td id=\"T_c71cb_row8_col11\" class=\"data row8 col11\" >0.083831</td>\n",
       "      <td id=\"T_c71cb_row8_col12\" class=\"data row8 col12\" >-0.018765</td>\n",
       "      <td id=\"T_c71cb_row8_col13\" class=\"data row8 col13\" >0.006593</td>\n",
       "      <td id=\"T_c71cb_row8_col14\" class=\"data row8 col14\" >0.025689</td>\n",
       "      <td id=\"T_c71cb_row8_col15\" class=\"data row8 col15\" >0.184786</td>\n",
       "      <td id=\"T_c71cb_row8_col16\" class=\"data row8 col16\" >0.048557</td>\n",
       "      <td id=\"T_c71cb_row8_col17\" class=\"data row8 col17\" >0.183256</td>\n",
       "    </tr>\n",
       "    <tr>\n",
       "      <th id=\"T_c71cb_level0_row9\" class=\"row_heading level0 row9\" >arrival_month</th>\n",
       "      <td id=\"T_c71cb_row9_col0\" class=\"data row9 col0\" >0.018254</td>\n",
       "      <td id=\"T_c71cb_row9_col1\" class=\"data row9 col1\" >0.008244</td>\n",
       "      <td id=\"T_c71cb_row9_col2\" class=\"data row9 col2\" >-0.010060</td>\n",
       "      <td id=\"T_c71cb_row9_col3\" class=\"data row9 col3\" >0.044170</td>\n",
       "      <td id=\"T_c71cb_row9_col4\" class=\"data row9 col4\" >0.019607</td>\n",
       "      <td id=\"T_c71cb_row9_col5\" class=\"data row9 col5\" >-0.018159</td>\n",
       "      <td id=\"T_c71cb_row9_col6\" class=\"data row9 col6\" >0.003517</td>\n",
       "      <td id=\"T_c71cb_row9_col7\" class=\"data row9 col7\" >0.140062</td>\n",
       "      <td id=\"T_c71cb_row9_col8\" class=\"data row9 col8\" >-0.343696</td>\n",
       "      <td id=\"T_c71cb_row9_col9\" class=\"data row9 col9\" >1.000000</td>\n",
       "      <td id=\"T_c71cb_row9_col10\" class=\"data row9 col10\" >-0.034861</td>\n",
       "      <td id=\"T_c71cb_row9_col11\" class=\"data row9 col11\" >-0.038777</td>\n",
       "      <td id=\"T_c71cb_row9_col12\" class=\"data row9 col12\" >-0.004458</td>\n",
       "      <td id=\"T_c71cb_row9_col13\" class=\"data row9 col13\" >-0.040632</td>\n",
       "      <td id=\"T_c71cb_row9_col14\" class=\"data row9 col14\" >-0.015225</td>\n",
       "      <td id=\"T_c71cb_row9_col15\" class=\"data row9 col15\" >0.053381</td>\n",
       "      <td id=\"T_c71cb_row9_col16\" class=\"data row9 col16\" >0.103389</td>\n",
       "      <td id=\"T_c71cb_row9_col17\" class=\"data row9 col17\" >-0.011472</td>\n",
       "    </tr>\n",
       "    <tr>\n",
       "      <th id=\"T_c71cb_level0_row10\" class=\"row_heading level0 row10\" >arrival_date</th>\n",
       "      <td id=\"T_c71cb_row10_col0\" class=\"data row10 col0\" >0.028433</td>\n",
       "      <td id=\"T_c71cb_row10_col1\" class=\"data row10 col1\" >0.020804</td>\n",
       "      <td id=\"T_c71cb_row10_col2\" class=\"data row10 col2\" >0.024026</td>\n",
       "      <td id=\"T_c71cb_row10_col3\" class=\"data row10 col3\" >-0.007471</td>\n",
       "      <td id=\"T_c71cb_row10_col4\" class=\"data row10 col4\" >0.019243</td>\n",
       "      <td id=\"T_c71cb_row10_col5\" class=\"data row10 col5\" >-0.008735</td>\n",
       "      <td id=\"T_c71cb_row10_col6\" class=\"data row10 col6\" >0.030617</td>\n",
       "      <td id=\"T_c71cb_row10_col7\" class=\"data row10 col7\" >0.012856</td>\n",
       "      <td id=\"T_c71cb_row10_col8\" class=\"data row10 col8\" >0.008437</td>\n",
       "      <td id=\"T_c71cb_row10_col9\" class=\"data row10 col9\" >-0.034861</td>\n",
       "      <td id=\"T_c71cb_row10_col10\" class=\"data row10 col10\" >1.000000</td>\n",
       "      <td id=\"T_c71cb_row10_col11\" class=\"data row10 col11\" >0.006799</td>\n",
       "      <td id=\"T_c71cb_row10_col12\" class=\"data row10 col12\" >-0.010958</td>\n",
       "      <td id=\"T_c71cb_row10_col13\" class=\"data row10 col13\" >-0.011854</td>\n",
       "      <td id=\"T_c71cb_row10_col14\" class=\"data row10 col14\" >-0.005799</td>\n",
       "      <td id=\"T_c71cb_row10_col15\" class=\"data row10 col15\" >0.009419</td>\n",
       "      <td id=\"T_c71cb_row10_col16\" class=\"data row10 col16\" >0.025031</td>\n",
       "      <td id=\"T_c71cb_row10_col17\" class=\"data row10 col17\" >0.011389</td>\n",
       "    </tr>\n",
       "    <tr>\n",
       "      <th id=\"T_c71cb_level0_row11\" class=\"row_heading level0 row11\" >market_segment_type</th>\n",
       "      <td id=\"T_c71cb_row11_col0\" class=\"data row11 col0\" >-0.098518</td>\n",
       "      <td id=\"T_c71cb_row11_col1\" class=\"data row11 col1\" >0.078264</td>\n",
       "      <td id=\"T_c71cb_row11_col2\" class=\"data row11 col2\" >-0.011626</td>\n",
       "      <td id=\"T_c71cb_row11_col3\" class=\"data row11 col3\" >-0.060650</td>\n",
       "      <td id=\"T_c71cb_row11_col4\" class=\"data row11 col4\" >-0.156242</td>\n",
       "      <td id=\"T_c71cb_row11_col5\" class=\"data row11 col5\" >0.109336</td>\n",
       "      <td id=\"T_c71cb_row11_col6\" class=\"data row11 col6\" >0.165417</td>\n",
       "      <td id=\"T_c71cb_row11_col7\" class=\"data row11 col7\" >-0.312090</td>\n",
       "      <td id=\"T_c71cb_row11_col8\" class=\"data row11 col8\" >0.083831</td>\n",
       "      <td id=\"T_c71cb_row11_col9\" class=\"data row11 col9\" >-0.038777</td>\n",
       "      <td id=\"T_c71cb_row11_col10\" class=\"data row11 col10\" >0.006799</td>\n",
       "      <td id=\"T_c71cb_row11_col11\" class=\"data row11 col11\" >1.000000</td>\n",
       "      <td id=\"T_c71cb_row11_col12\" class=\"data row11 col12\" >0.304650</td>\n",
       "      <td id=\"T_c71cb_row11_col13\" class=\"data row11 col13\" >0.071473</td>\n",
       "      <td id=\"T_c71cb_row11_col14\" class=\"data row11 col14\" >0.201586</td>\n",
       "      <td id=\"T_c71cb_row11_col15\" class=\"data row11 col15\" >-0.044086</td>\n",
       "      <td id=\"T_c71cb_row11_col16\" class=\"data row11 col16\" >0.203076</td>\n",
       "      <td id=\"T_c71cb_row11_col17\" class=\"data row11 col17\" >-0.045906</td>\n",
       "    </tr>\n",
       "    <tr>\n",
       "      <th id=\"T_c71cb_level0_row12\" class=\"row_heading level0 row12\" >repeated_guest</th>\n",
       "      <td id=\"T_c71cb_row12_col0\" class=\"data row12 col0\" >-0.198334</td>\n",
       "      <td id=\"T_c71cb_row12_col1\" class=\"data row12 col1\" >-0.037868</td>\n",
       "      <td id=\"T_c71cb_row12_col2\" class=\"data row12 col2\" >-0.058549</td>\n",
       "      <td id=\"T_c71cb_row12_col3\" class=\"data row12 col3\" >-0.094936</td>\n",
       "      <td id=\"T_c71cb_row12_col4\" class=\"data row12 col4\" >-0.068313</td>\n",
       "      <td id=\"T_c71cb_row12_col5\" class=\"data row12 col5\" >0.116001</td>\n",
       "      <td id=\"T_c71cb_row12_col6\" class=\"data row12 col6\" >-0.006948</td>\n",
       "      <td id=\"T_c71cb_row12_col7\" class=\"data row12 col7\" >-0.135079</td>\n",
       "      <td id=\"T_c71cb_row12_col8\" class=\"data row12 col8\" >-0.018765</td>\n",
       "      <td id=\"T_c71cb_row12_col9\" class=\"data row12 col9\" >-0.004458</td>\n",
       "      <td id=\"T_c71cb_row12_col10\" class=\"data row12 col10\" >-0.010958</td>\n",
       "      <td id=\"T_c71cb_row12_col11\" class=\"data row12 col11\" >0.304650</td>\n",
       "      <td id=\"T_c71cb_row12_col12\" class=\"data row12 col12\" >1.000000</td>\n",
       "      <td id=\"T_c71cb_row12_col13\" class=\"data row12 col13\" >0.378014</td>\n",
       "      <td id=\"T_c71cb_row12_col14\" class=\"data row12 col14\" >0.550633</td>\n",
       "      <td id=\"T_c71cb_row12_col15\" class=\"data row12 col15\" >-0.173846</td>\n",
       "      <td id=\"T_c71cb_row12_col16\" class=\"data row12 col16\" >-0.016543</td>\n",
       "      <td id=\"T_c71cb_row12_col17\" class=\"data row12 col17\" >-0.106715</td>\n",
       "    </tr>\n",
       "    <tr>\n",
       "      <th id=\"T_c71cb_level0_row13\" class=\"row_heading level0 row13\" >no_of_previous_cancellations</th>\n",
       "      <td id=\"T_c71cb_row13_col0\" class=\"data row13 col0\" >-0.043494</td>\n",
       "      <td id=\"T_c71cb_row13_col1\" class=\"data row13 col1\" >-0.015580</td>\n",
       "      <td id=\"T_c71cb_row13_col2\" class=\"data row13 col2\" >-0.015543</td>\n",
       "      <td id=\"T_c71cb_row13_col3\" class=\"data row13 col3\" >-0.024761</td>\n",
       "      <td id=\"T_c71cb_row13_col4\" class=\"data row13 col4\" >-0.018854</td>\n",
       "      <td id=\"T_c71cb_row13_col5\" class=\"data row13 col5\" >0.027336</td>\n",
       "      <td id=\"T_c71cb_row13_col6\" class=\"data row13 col6\" >-0.001362</td>\n",
       "      <td id=\"T_c71cb_row13_col7\" class=\"data row13 col7\" >-0.042747</td>\n",
       "      <td id=\"T_c71cb_row13_col8\" class=\"data row13 col8\" >0.006593</td>\n",
       "      <td id=\"T_c71cb_row13_col9\" class=\"data row13 col9\" >-0.040632</td>\n",
       "      <td id=\"T_c71cb_row13_col10\" class=\"data row13 col10\" >-0.011854</td>\n",
       "      <td id=\"T_c71cb_row13_col11\" class=\"data row13 col11\" >0.071473</td>\n",
       "      <td id=\"T_c71cb_row13_col12\" class=\"data row13 col12\" >0.378014</td>\n",
       "      <td id=\"T_c71cb_row13_col13\" class=\"data row13 col13\" >1.000000</td>\n",
       "      <td id=\"T_c71cb_row13_col14\" class=\"data row13 col14\" >0.459753</td>\n",
       "      <td id=\"T_c71cb_row13_col15\" class=\"data row13 col15\" >-0.060170</td>\n",
       "      <td id=\"T_c71cb_row13_col16\" class=\"data row13 col16\" >-0.007059</td>\n",
       "      <td id=\"T_c71cb_row13_col17\" class=\"data row13 col17\" >-0.031852</td>\n",
       "    </tr>\n",
       "    <tr>\n",
       "      <th id=\"T_c71cb_level0_row14\" class=\"row_heading level0 row14\" >no_of_previous_bookings_not_canceled</th>\n",
       "      <td id=\"T_c71cb_row14_col0\" class=\"data row14 col0\" >-0.119703</td>\n",
       "      <td id=\"T_c71cb_row14_col1\" class=\"data row14 col1\" >-0.021495</td>\n",
       "      <td id=\"T_c71cb_row14_col2\" class=\"data row14 col2\" >-0.018829</td>\n",
       "      <td id=\"T_c71cb_row14_col3\" class=\"data row14 col3\" >-0.041108</td>\n",
       "      <td id=\"T_c71cb_row14_col4\" class=\"data row14 col4\" >-0.042258</td>\n",
       "      <td id=\"T_c71cb_row14_col5\" class=\"data row14 col5\" >0.062674</td>\n",
       "      <td id=\"T_c71cb_row14_col6\" class=\"data row14 col6\" >-0.001447</td>\n",
       "      <td id=\"T_c71cb_row14_col7\" class=\"data row14 col7\" >-0.078664</td>\n",
       "      <td id=\"T_c71cb_row14_col8\" class=\"data row14 col8\" >0.025689</td>\n",
       "      <td id=\"T_c71cb_row14_col9\" class=\"data row14 col9\" >-0.015225</td>\n",
       "      <td id=\"T_c71cb_row14_col10\" class=\"data row14 col10\" >-0.005799</td>\n",
       "      <td id=\"T_c71cb_row14_col11\" class=\"data row14 col11\" >0.201586</td>\n",
       "      <td id=\"T_c71cb_row14_col12\" class=\"data row14 col12\" >0.550633</td>\n",
       "      <td id=\"T_c71cb_row14_col13\" class=\"data row14 col13\" >0.459753</td>\n",
       "      <td id=\"T_c71cb_row14_col14\" class=\"data row14 col14\" >1.000000</td>\n",
       "      <td id=\"T_c71cb_row14_col15\" class=\"data row14 col15\" >-0.114968</td>\n",
       "      <td id=\"T_c71cb_row14_col16\" class=\"data row14 col16\" >0.014382</td>\n",
       "      <td id=\"T_c71cb_row14_col17\" class=\"data row14 col17\" >-0.060697</td>\n",
       "    </tr>\n",
       "    <tr>\n",
       "      <th id=\"T_c71cb_level0_row15\" class=\"row_heading level0 row15\" >avg_price_per_room</th>\n",
       "      <td id=\"T_c71cb_row15_col0\" class=\"data row15 col0\" >0.292910</td>\n",
       "      <td id=\"T_c71cb_row15_col1\" class=\"data row15 col1\" >0.342425</td>\n",
       "      <td id=\"T_c71cb_row15_col2\" class=\"data row15 col2\" >-0.005837</td>\n",
       "      <td id=\"T_c71cb_row15_col3\" class=\"data row15 col3\" >0.029326</td>\n",
       "      <td id=\"T_c71cb_row15_col4\" class=\"data row15 col4\" >0.039359</td>\n",
       "      <td id=\"T_c71cb_row15_col5\" class=\"data row15 col5\" >0.062199</td>\n",
       "      <td id=\"T_c71cb_row15_col6\" class=\"data row15 col6\" >0.411577</td>\n",
       "      <td id=\"T_c71cb_row15_col7\" class=\"data row15 col7\" >-0.069985</td>\n",
       "      <td id=\"T_c71cb_row15_col8\" class=\"data row15 col8\" >0.184786</td>\n",
       "      <td id=\"T_c71cb_row15_col9\" class=\"data row15 col9\" >0.053381</td>\n",
       "      <td id=\"T_c71cb_row15_col10\" class=\"data row15 col10\" >0.009419</td>\n",
       "      <td id=\"T_c71cb_row15_col11\" class=\"data row15 col11\" >-0.044086</td>\n",
       "      <td id=\"T_c71cb_row15_col12\" class=\"data row15 col12\" >-0.173846</td>\n",
       "      <td id=\"T_c71cb_row15_col13\" class=\"data row15 col13\" >-0.060170</td>\n",
       "      <td id=\"T_c71cb_row15_col14\" class=\"data row15 col14\" >-0.114968</td>\n",
       "      <td id=\"T_c71cb_row15_col15\" class=\"data row15 col15\" >1.000000</td>\n",
       "      <td id=\"T_c71cb_row15_col16\" class=\"data row15 col16\" >0.185245</td>\n",
       "      <td id=\"T_c71cb_row15_col17\" class=\"data row15 col17\" >0.145245</td>\n",
       "    </tr>\n",
       "    <tr>\n",
       "      <th id=\"T_c71cb_level0_row16\" class=\"row_heading level0 row16\" >no_of_special_requests</th>\n",
       "      <td id=\"T_c71cb_row16_col0\" class=\"data row16 col0\" >0.179970</td>\n",
       "      <td id=\"T_c71cb_row16_col1\" class=\"data row16 col1\" >0.128325</td>\n",
       "      <td id=\"T_c71cb_row16_col2\" class=\"data row16 col2\" >0.057814</td>\n",
       "      <td id=\"T_c71cb_row16_col3\" class=\"data row16 col3\" >0.037413</td>\n",
       "      <td id=\"T_c71cb_row16_col4\" class=\"data row16 col4\" >-0.054258</td>\n",
       "      <td id=\"T_c71cb_row16_col5\" class=\"data row16 col5\" >0.083360</td>\n",
       "      <td id=\"T_c71cb_row16_col6\" class=\"data row16 col6\" >0.121888</td>\n",
       "      <td id=\"T_c71cb_row16_col7\" class=\"data row16 col7\" >-0.103707</td>\n",
       "      <td id=\"T_c71cb_row16_col8\" class=\"data row16 col8\" >0.048557</td>\n",
       "      <td id=\"T_c71cb_row16_col9\" class=\"data row16 col9\" >0.103389</td>\n",
       "      <td id=\"T_c71cb_row16_col10\" class=\"data row16 col10\" >0.025031</td>\n",
       "      <td id=\"T_c71cb_row16_col11\" class=\"data row16 col11\" >0.203076</td>\n",
       "      <td id=\"T_c71cb_row16_col12\" class=\"data row16 col12\" >-0.016543</td>\n",
       "      <td id=\"T_c71cb_row16_col13\" class=\"data row16 col13\" >-0.007059</td>\n",
       "      <td id=\"T_c71cb_row16_col14\" class=\"data row16 col14\" >0.014382</td>\n",
       "      <td id=\"T_c71cb_row16_col15\" class=\"data row16 col15\" >0.185245</td>\n",
       "      <td id=\"T_c71cb_row16_col16\" class=\"data row16 col16\" >1.000000</td>\n",
       "      <td id=\"T_c71cb_row16_col17\" class=\"data row16 col17\" >-0.248289</td>\n",
       "    </tr>\n",
       "    <tr>\n",
       "      <th id=\"T_c71cb_level0_row17\" class=\"row_heading level0 row17\" >booking_status</th>\n",
       "      <td id=\"T_c71cb_row17_col0\" class=\"data row17 col0\" >0.094354</td>\n",
       "      <td id=\"T_c71cb_row17_col1\" class=\"data row17 col1\" >0.035093</td>\n",
       "      <td id=\"T_c71cb_row17_col2\" class=\"data row17 col2\" >0.061117</td>\n",
       "      <td id=\"T_c71cb_row17_col3\" class=\"data row17 col3\" >0.096472</td>\n",
       "      <td id=\"T_c71cb_row17_col4\" class=\"data row17 col4\" >0.076685</td>\n",
       "      <td id=\"T_c71cb_row17_col5\" class=\"data row17 col5\" >-0.092640</td>\n",
       "      <td id=\"T_c71cb_row17_col6\" class=\"data row17 col6\" >0.021723</td>\n",
       "      <td id=\"T_c71cb_row17_col7\" class=\"data row17 col7\" >0.434314</td>\n",
       "      <td id=\"T_c71cb_row17_col8\" class=\"data row17 col8\" >0.183256</td>\n",
       "      <td id=\"T_c71cb_row17_col9\" class=\"data row17 col9\" >-0.011472</td>\n",
       "      <td id=\"T_c71cb_row17_col10\" class=\"data row17 col10\" >0.011389</td>\n",
       "      <td id=\"T_c71cb_row17_col11\" class=\"data row17 col11\" >-0.045906</td>\n",
       "      <td id=\"T_c71cb_row17_col12\" class=\"data row17 col12\" >-0.106715</td>\n",
       "      <td id=\"T_c71cb_row17_col13\" class=\"data row17 col13\" >-0.031852</td>\n",
       "      <td id=\"T_c71cb_row17_col14\" class=\"data row17 col14\" >-0.060697</td>\n",
       "      <td id=\"T_c71cb_row17_col15\" class=\"data row17 col15\" >0.145245</td>\n",
       "      <td id=\"T_c71cb_row17_col16\" class=\"data row17 col16\" >-0.248289</td>\n",
       "      <td id=\"T_c71cb_row17_col17\" class=\"data row17 col17\" >1.000000</td>\n",
       "    </tr>\n",
       "  </tbody>\n",
       "</table>\n"
      ],
      "text/plain": [
       "<pandas.io.formats.style.Styler at 0x210029d4f10>"
      ]
     },
     "execution_count": 23,
     "metadata": {},
     "output_type": "execute_result"
    }
   ],
   "source": [
    "corr = train.corr()\n",
    "corr.style.background_gradient('coolwarm')"
   ]
  },
  {
   "cell_type": "code",
   "execution_count": 24,
   "id": "37fbaac6",
   "metadata": {},
   "outputs": [],
   "source": [
    "X = train.drop('booking_status', axis = 1)\n",
    "y = train['booking_status']"
   ]
  },
  {
   "cell_type": "code",
   "execution_count": 25,
   "id": "0a6b5624",
   "metadata": {},
   "outputs": [],
   "source": [
    "from imblearn import over_sampling"
   ]
  },
  {
   "cell_type": "code",
   "execution_count": 26,
   "id": "8bbcd28d",
   "metadata": {},
   "outputs": [],
   "source": [
    "os = over_sampling.RandomOverSampler()"
   ]
  },
  {
   "cell_type": "code",
   "execution_count": 27,
   "id": "ad059c4a",
   "metadata": {},
   "outputs": [],
   "source": [
    "X, y = os.fit_resample(X,y)"
   ]
  },
  {
   "cell_type": "code",
   "execution_count": 28,
   "id": "261a23c6",
   "metadata": {},
   "outputs": [
    {
     "data": {
      "text/plain": [
       "0    12195\n",
       "1    12195\n",
       "Name: booking_status, dtype: int64"
      ]
     },
     "execution_count": 28,
     "metadata": {},
     "output_type": "execute_result"
    }
   ],
   "source": [
    "y.value_counts()"
   ]
  },
  {
   "cell_type": "code",
   "execution_count": 29,
   "id": "396ba0cd",
   "metadata": {},
   "outputs": [],
   "source": [
    "X_train, X_val, y_train, y_val = train_test_split(X,y,test_size=0.2)"
   ]
  },
  {
   "cell_type": "code",
   "execution_count": 30,
   "id": "53959162",
   "metadata": {},
   "outputs": [],
   "source": [
    "def model_evaluation(classifier):\n",
    "    cm = confusion_matrix(y_val, classifier.predict(X_val))\n",
    "    counts = [value for value in cm.flatten()]\n",
    "    labels = [f'{v1}' for v1 in counts]\n",
    "    labels = np.asarray(labels).reshape(2,2)\n",
    "    sns.heatmap(cm, annot = labels, cmap = 'Greens', fmt = '')\n",
    "    y_pred = classifier.predict(X_val)\n",
    "    yt_pred = classifier.predict(X_train)\n",
    "    print('The Training Accuracy of the algorithm is ', accuracy_score(y_train, yt_pred))\n",
    "    print('The Validation Accuracy of the algorithm is ', accuracy_score(y_val, y_pred))\n",
    "    return [(accuracy_score(y_train * 100, yt_pred * 100) * 100), (accuracy_score(y_val * 100, y_pred * 100) * 100), f1_score(y_val, y_pred)]"
   ]
  },
  {
   "cell_type": "code",
   "execution_count": 31,
   "id": "c66f90cd",
   "metadata": {},
   "outputs": [
    {
     "data": {
      "text/html": [
       "<style>#sk-container-id-1 {color: black;background-color: white;}#sk-container-id-1 pre{padding: 0;}#sk-container-id-1 div.sk-toggleable {background-color: white;}#sk-container-id-1 label.sk-toggleable__label {cursor: pointer;display: block;width: 100%;margin-bottom: 0;padding: 0.3em;box-sizing: border-box;text-align: center;}#sk-container-id-1 label.sk-toggleable__label-arrow:before {content: \"▸\";float: left;margin-right: 0.25em;color: #696969;}#sk-container-id-1 label.sk-toggleable__label-arrow:hover:before {color: black;}#sk-container-id-1 div.sk-estimator:hover label.sk-toggleable__label-arrow:before {color: black;}#sk-container-id-1 div.sk-toggleable__content {max-height: 0;max-width: 0;overflow: hidden;text-align: left;background-color: #f0f8ff;}#sk-container-id-1 div.sk-toggleable__content pre {margin: 0.2em;color: black;border-radius: 0.25em;background-color: #f0f8ff;}#sk-container-id-1 input.sk-toggleable__control:checked~div.sk-toggleable__content {max-height: 200px;max-width: 100%;overflow: auto;}#sk-container-id-1 input.sk-toggleable__control:checked~label.sk-toggleable__label-arrow:before {content: \"▾\";}#sk-container-id-1 div.sk-estimator input.sk-toggleable__control:checked~label.sk-toggleable__label {background-color: #d4ebff;}#sk-container-id-1 div.sk-label input.sk-toggleable__control:checked~label.sk-toggleable__label {background-color: #d4ebff;}#sk-container-id-1 input.sk-hidden--visually {border: 0;clip: rect(1px 1px 1px 1px);clip: rect(1px, 1px, 1px, 1px);height: 1px;margin: -1px;overflow: hidden;padding: 0;position: absolute;width: 1px;}#sk-container-id-1 div.sk-estimator {font-family: monospace;background-color: #f0f8ff;border: 1px dotted black;border-radius: 0.25em;box-sizing: border-box;margin-bottom: 0.5em;}#sk-container-id-1 div.sk-estimator:hover {background-color: #d4ebff;}#sk-container-id-1 div.sk-parallel-item::after {content: \"\";width: 100%;border-bottom: 1px solid gray;flex-grow: 1;}#sk-container-id-1 div.sk-label:hover label.sk-toggleable__label {background-color: #d4ebff;}#sk-container-id-1 div.sk-serial::before {content: \"\";position: absolute;border-left: 1px solid gray;box-sizing: border-box;top: 0;bottom: 0;left: 50%;z-index: 0;}#sk-container-id-1 div.sk-serial {display: flex;flex-direction: column;align-items: center;background-color: white;padding-right: 0.2em;padding-left: 0.2em;position: relative;}#sk-container-id-1 div.sk-item {position: relative;z-index: 1;}#sk-container-id-1 div.sk-parallel {display: flex;align-items: stretch;justify-content: center;background-color: white;position: relative;}#sk-container-id-1 div.sk-item::before, #sk-container-id-1 div.sk-parallel-item::before {content: \"\";position: absolute;border-left: 1px solid gray;box-sizing: border-box;top: 0;bottom: 0;left: 50%;z-index: -1;}#sk-container-id-1 div.sk-parallel-item {display: flex;flex-direction: column;z-index: 1;position: relative;background-color: white;}#sk-container-id-1 div.sk-parallel-item:first-child::after {align-self: flex-end;width: 50%;}#sk-container-id-1 div.sk-parallel-item:last-child::after {align-self: flex-start;width: 50%;}#sk-container-id-1 div.sk-parallel-item:only-child::after {width: 0;}#sk-container-id-1 div.sk-dashed-wrapped {border: 1px dashed gray;margin: 0 0.4em 0.5em 0.4em;box-sizing: border-box;padding-bottom: 0.4em;background-color: white;}#sk-container-id-1 div.sk-label label {font-family: monospace;font-weight: bold;display: inline-block;line-height: 1.2em;}#sk-container-id-1 div.sk-label-container {text-align: center;}#sk-container-id-1 div.sk-container {/* jupyter's `normalize.less` sets `[hidden] { display: none; }` but bootstrap.min.css set `[hidden] { display: none !important; }` so we also need the `!important` here to be able to override the default hidden behavior on the sphinx rendered scikit-learn.org. See: https://github.com/scikit-learn/scikit-learn/issues/21755 */display: inline-block !important;position: relative;}#sk-container-id-1 div.sk-text-repr-fallback {display: none;}</style><div id=\"sk-container-id-1\" class=\"sk-top-container\"><div class=\"sk-text-repr-fallback\"><pre>KNeighborsClassifier()</pre><b>In a Jupyter environment, please rerun this cell to show the HTML representation or trust the notebook. <br />On GitHub, the HTML representation is unable to render, please try loading this page with nbviewer.org.</b></div><div class=\"sk-container\" hidden><div class=\"sk-item\"><div class=\"sk-estimator sk-toggleable\"><input class=\"sk-toggleable__control sk-hidden--visually\" id=\"sk-estimator-id-1\" type=\"checkbox\" checked><label for=\"sk-estimator-id-1\" class=\"sk-toggleable__label sk-toggleable__label-arrow\">KNeighborsClassifier</label><div class=\"sk-toggleable__content\"><pre>KNeighborsClassifier()</pre></div></div></div></div></div>"
      ],
      "text/plain": [
       "KNeighborsClassifier()"
      ]
     },
     "execution_count": 31,
     "metadata": {},
     "output_type": "execute_result"
    }
   ],
   "source": [
    "knn = KNeighborsClassifier()\n",
    "knn.fit(X_train, y_train)"
   ]
  },
  {
   "cell_type": "code",
   "execution_count": 32,
   "id": "df17a849",
   "metadata": {},
   "outputs": [
    {
     "name": "stdout",
     "output_type": "stream",
     "text": [
      "The Training Accuracy of the algorithm is  0.8671586715867159\n",
      "The Validation Accuracy of the algorithm is  0.7984829848298483\n"
     ]
    },
    {
     "data": {
      "image/png": "[encoded data removed]",
      "text/plain": [
       "<Figure size 640x480 with 2 Axes>"
      ]
     },
     "metadata": {},
     "output_type": "display_data"
    }
   ],
   "source": [
    "knn_r = model_evaluation(knn)"
   ]
  },
  {
   "cell_type": "code",
   "execution_count": 33,
   "id": "2a80b05b",
   "metadata": {},
   "outputs": [
    {
     "data": {
      "text/html": [
       "<style>#sk-container-id-2 {color: black;background-color: white;}#sk-container-id-2 pre{padding: 0;}#sk-container-id-2 div.sk-toggleable {background-color: white;}#sk-container-id-2 label.sk-toggleable__label {cursor: pointer;display: block;width: 100%;margin-bottom: 0;padding: 0.3em;box-sizing: border-box;text-align: center;}#sk-container-id-2 label.sk-toggleable__label-arrow:before {content: \"▸\";float: left;margin-right: 0.25em;color: #696969;}#sk-container-id-2 label.sk-toggleable__label-arrow:hover:before {color: black;}#sk-container-id-2 div.sk-estimator:hover label.sk-toggleable__label-arrow:before {color: black;}#sk-container-id-2 div.sk-toggleable__content {max-height: 0;max-width: 0;overflow: hidden;text-align: left;background-color: #f0f8ff;}#sk-container-id-2 div.sk-toggleable__content pre {margin: 0.2em;color: black;border-radius: 0.25em;background-color: #f0f8ff;}#sk-container-id-2 input.sk-toggleable__control:checked~div.sk-toggleable__content {max-height: 200px;max-width: 100%;overflow: auto;}#sk-container-id-2 input.sk-toggleable__control:checked~label.sk-toggleable__label-arrow:before {content: \"▾\";}#sk-container-id-2 div.sk-estimator input.sk-toggleable__control:checked~label.sk-toggleable__label {background-color: #d4ebff;}#sk-container-id-2 div.sk-label input.sk-toggleable__control:checked~label.sk-toggleable__label {background-color: #d4ebff;}#sk-container-id-2 input.sk-hidden--visually {border: 0;clip: rect(1px 1px 1px 1px);clip: rect(1px, 1px, 1px, 1px);height: 1px;margin: -1px;overflow: hidden;padding: 0;position: absolute;width: 1px;}#sk-container-id-2 div.sk-estimator {font-family: monospace;background-color: #f0f8ff;border: 1px dotted black;border-radius: 0.25em;box-sizing: border-box;margin-bottom: 0.5em;}#sk-container-id-2 div.sk-estimator:hover {background-color: #d4ebff;}#sk-container-id-2 div.sk-parallel-item::after {content: \"\";width: 100%;border-bottom: 1px solid gray;flex-grow: 1;}#sk-container-id-2 div.sk-label:hover label.sk-toggleable__label {background-color: #d4ebff;}#sk-container-id-2 div.sk-serial::before {content: \"\";position: absolute;border-left: 1px solid gray;box-sizing: border-box;top: 0;bottom: 0;left: 50%;z-index: 0;}#sk-container-id-2 div.sk-serial {display: flex;flex-direction: column;align-items: center;background-color: white;padding-right: 0.2em;padding-left: 0.2em;position: relative;}#sk-container-id-2 div.sk-item {position: relative;z-index: 1;}#sk-container-id-2 div.sk-parallel {display: flex;align-items: stretch;justify-content: center;background-color: white;position: relative;}#sk-container-id-2 div.sk-item::before, #sk-container-id-2 div.sk-parallel-item::before {content: \"\";position: absolute;border-left: 1px solid gray;box-sizing: border-box;top: 0;bottom: 0;left: 50%;z-index: -1;}#sk-container-id-2 div.sk-parallel-item {display: flex;flex-direction: column;z-index: 1;position: relative;background-color: white;}#sk-container-id-2 div.sk-parallel-item:first-child::after {align-self: flex-end;width: 50%;}#sk-container-id-2 div.sk-parallel-item:last-child::after {align-self: flex-start;width: 50%;}#sk-container-id-2 div.sk-parallel-item:only-child::after {width: 0;}#sk-container-id-2 div.sk-dashed-wrapped {border: 1px dashed gray;margin: 0 0.4em 0.5em 0.4em;box-sizing: border-box;padding-bottom: 0.4em;background-color: white;}#sk-container-id-2 div.sk-label label {font-family: monospace;font-weight: bold;display: inline-block;line-height: 1.2em;}#sk-container-id-2 div.sk-label-container {text-align: center;}#sk-container-id-2 div.sk-container {/* jupyter's `normalize.less` sets `[hidden] { display: none; }` but bootstrap.min.css set `[hidden] { display: none !important; }` so we also need the `!important` here to be able to override the default hidden behavior on the sphinx rendered scikit-learn.org. See: https://github.com/scikit-learn/scikit-learn/issues/21755 */display: inline-block !important;position: relative;}#sk-container-id-2 div.sk-text-repr-fallback {display: none;}</style><div id=\"sk-container-id-2\" class=\"sk-top-container\"><div class=\"sk-text-repr-fallback\"><pre>SVC()</pre><b>In a Jupyter environment, please rerun this cell to show the HTML representation or trust the notebook. <br />On GitHub, the HTML representation is unable to render, please try loading this page with nbviewer.org.</b></div><div class=\"sk-container\" hidden><div class=\"sk-item\"><div class=\"sk-estimator sk-toggleable\"><input class=\"sk-toggleable__control sk-hidden--visually\" id=\"sk-estimator-id-2\" type=\"checkbox\" checked><label for=\"sk-estimator-id-2\" class=\"sk-toggleable__label sk-toggleable__label-arrow\">SVC</label><div class=\"sk-toggleable__content\"><pre>SVC()</pre></div></div></div></div></div>"
      ],
      "text/plain": [
       "SVC()"
      ]
     },
     "execution_count": 33,
     "metadata": {},
     "output_type": "execute_result"
    }
   ],
   "source": [
    "svm = SVC()\n",
    "svm.fit(X_train, y_train)"
   ]
  },
  {
   "cell_type": "code",
   "execution_count": 34,
   "id": "c8d4d400",
   "metadata": {},
   "outputs": [
    {
     "name": "stdout",
     "output_type": "stream",
     "text": [
      "The Training Accuracy of the algorithm is  0.6929069290692907\n",
      "The Validation Accuracy of the algorithm is  0.6927019270192702\n"
     ]
    },
    {
     "data": {
      "image/png": "[encoded data removed]",
      "text/plain": [
       "<Figure size 640x480 with 2 Axes>"
      ]
     },
     "metadata": {},
     "output_type": "display_data"
    }
   ],
   "source": [
    "svm_r = model_evaluation(svm)"
   ]
  },
  {
   "cell_type": "code",
   "execution_count": 35,
   "id": "aec57887",
   "metadata": {},
   "outputs": [
    {
     "data": {
      "text/html": [
       "<style>#sk-container-id-3 {color: black;background-color: white;}#sk-container-id-3 pre{padding: 0;}#sk-container-id-3 div.sk-toggleable {background-color: white;}#sk-container-id-3 label.sk-toggleable__label {cursor: pointer;display: block;width: 100%;margin-bottom: 0;padding: 0.3em;box-sizing: border-box;text-align: center;}#sk-container-id-3 label.sk-toggleable__label-arrow:before {content: \"▸\";float: left;margin-right: 0.25em;color: #696969;}#sk-container-id-3 label.sk-toggleable__label-arrow:hover:before {color: black;}#sk-container-id-3 div.sk-estimator:hover label.sk-toggleable__label-arrow:before {color: black;}#sk-container-id-3 div.sk-toggleable__content {max-height: 0;max-width: 0;overflow: hidden;text-align: left;background-color: #f0f8ff;}#sk-container-id-3 div.sk-toggleable__content pre {margin: 0.2em;color: black;border-radius: 0.25em;background-color: #f0f8ff;}#sk-container-id-3 input.sk-toggleable__control:checked~div.sk-toggleable__content {max-height: 200px;max-width: 100%;overflow: auto;}#sk-container-id-3 input.sk-toggleable__control:checked~label.sk-toggleable__label-arrow:before {content: \"▾\";}#sk-container-id-3 div.sk-estimator input.sk-toggleable__control:checked~label.sk-toggleable__label {background-color: #d4ebff;}#sk-container-id-3 div.sk-label input.sk-toggleable__control:checked~label.sk-toggleable__label {background-color: #d4ebff;}#sk-container-id-3 input.sk-hidden--visually {border: 0;clip: rect(1px 1px 1px 1px);clip: rect(1px, 1px, 1px, 1px);height: 1px;margin: -1px;overflow: hidden;padding: 0;position: absolute;width: 1px;}#sk-container-id-3 div.sk-estimator {font-family: monospace;background-color: #f0f8ff;border: 1px dotted black;border-radius: 0.25em;box-sizing: border-box;margin-bottom: 0.5em;}#sk-container-id-3 div.sk-estimator:hover {background-color: #d4ebff;}#sk-container-id-3 div.sk-parallel-item::after {content: \"\";width: 100%;border-bottom: 1px solid gray;flex-grow: 1;}#sk-container-id-3 div.sk-label:hover label.sk-toggleable__label {background-color: #d4ebff;}#sk-container-id-3 div.sk-serial::before {content: \"\";position: absolute;border-left: 1px solid gray;box-sizing: border-box;top: 0;bottom: 0;left: 50%;z-index: 0;}#sk-container-id-3 div.sk-serial {display: flex;flex-direction: column;align-items: center;background-color: white;padding-right: 0.2em;padding-left: 0.2em;position: relative;}#sk-container-id-3 div.sk-item {position: relative;z-index: 1;}#sk-container-id-3 div.sk-parallel {display: flex;align-items: stretch;justify-content: center;background-color: white;position: relative;}#sk-container-id-3 div.sk-item::before, #sk-container-id-3 div.sk-parallel-item::before {content: \"\";position: absolute;border-left: 1px solid gray;box-sizing: border-box;top: 0;bottom: 0;left: 50%;z-index: -1;}#sk-container-id-3 div.sk-parallel-item {display: flex;flex-direction: column;z-index: 1;position: relative;background-color: white;}#sk-container-id-3 div.sk-parallel-item:first-child::after {align-self: flex-end;width: 50%;}#sk-container-id-3 div.sk-parallel-item:last-child::after {align-self: flex-start;width: 50%;}#sk-container-id-3 div.sk-parallel-item:only-child::after {width: 0;}#sk-container-id-3 div.sk-dashed-wrapped {border: 1px dashed gray;margin: 0 0.4em 0.5em 0.4em;box-sizing: border-box;padding-bottom: 0.4em;background-color: white;}#sk-container-id-3 div.sk-label label {font-family: monospace;font-weight: bold;display: inline-block;line-height: 1.2em;}#sk-container-id-3 div.sk-label-container {text-align: center;}#sk-container-id-3 div.sk-container {/* jupyter's `normalize.less` sets `[hidden] { display: none; }` but bootstrap.min.css set `[hidden] { display: none !important; }` so we also need the `!important` here to be able to override the default hidden behavior on the sphinx rendered scikit-learn.org. See: https://github.com/scikit-learn/scikit-learn/issues/21755 */display: inline-block !important;position: relative;}#sk-container-id-3 div.sk-text-repr-fallback {display: none;}</style><div id=\"sk-container-id-3\" class=\"sk-top-container\"><div class=\"sk-text-repr-fallback\"><pre>GaussianNB()</pre><b>In a Jupyter environment, please rerun this cell to show the HTML representation or trust the notebook. <br />On GitHub, the HTML representation is unable to render, please try loading this page with nbviewer.org.</b></div><div class=\"sk-container\" hidden><div class=\"sk-item\"><div class=\"sk-estimator sk-toggleable\"><input class=\"sk-toggleable__control sk-hidden--visually\" id=\"sk-estimator-id-3\" type=\"checkbox\" checked><label for=\"sk-estimator-id-3\" class=\"sk-toggleable__label sk-toggleable__label-arrow\">GaussianNB</label><div class=\"sk-toggleable__content\"><pre>GaussianNB()</pre></div></div></div></div></div>"
      ],
      "text/plain": [
       "GaussianNB()"
      ]
     },
     "execution_count": 35,
     "metadata": {},
     "output_type": "execute_result"
    }
   ],
   "source": [
    "gnb = GaussianNB()\n",
    "gnb.fit(X_train, y_train)"
   ]
  },
  {
   "cell_type": "code",
   "execution_count": 36,
   "id": "4bed9ee0",
   "metadata": {},
   "outputs": [
    {
     "name": "stdout",
     "output_type": "stream",
     "text": [
      "The Training Accuracy of the algorithm is  0.5427429274292743\n",
      "The Validation Accuracy of the algorithm is  0.542640426404264\n"
     ]
    },
    {
     "data": {
      "image/png": "[encoded data removed]",
      "text/plain": [
       "<Figure size 640x480 with 2 Axes>"
      ]
     },
     "metadata": {},
     "output_type": "display_data"
    }
   ],
   "source": [
    "gnb_r = model_evaluation(gnb)"
   ]
  },
  {
   "cell_type": "code",
   "execution_count": 37,
   "id": "788595a3",
   "metadata": {},
   "outputs": [
    {
     "name": "stderr",
     "output_type": "stream",
     "text": [
      "F:\\Anacona\\envs\\yatin\\lib\\site-packages\\sklearn\\linear_model\\_logistic.py:458: ConvergenceWarning: lbfgs failed to converge (status=1):\n",
      "STOP: TOTAL NO. of ITERATIONS REACHED LIMIT.\n",
      "\n",
      "Increase the number of iterations (max_iter) or scale the data as shown in:\n",
      "    https://scikit-learn.org/stable/modules/preprocessing.html\n",
      "Please also refer to the documentation for alternative solver options:\n",
      "    https://scikit-learn.org/stable/modules/linear_model.html#logistic-regression\n",
      "  n_iter_i = _check_optimize_result(\n"
     ]
    },
    {
     "data": {
      "text/html": [
       "<style>#sk-container-id-4 {color: black;background-color: white;}#sk-container-id-4 pre{padding: 0;}#sk-container-id-4 div.sk-toggleable {background-color: white;}#sk-container-id-4 label.sk-toggleable__label {cursor: pointer;display: block;width: 100%;margin-bottom: 0;padding: 0.3em;box-sizing: border-box;text-align: center;}#sk-container-id-4 label.sk-toggleable__label-arrow:before {content: \"▸\";float: left;margin-right: 0.25em;color: #696969;}#sk-container-id-4 label.sk-toggleable__label-arrow:hover:before {color: black;}#sk-container-id-4 div.sk-estimator:hover label.sk-toggleable__label-arrow:before {color: black;}#sk-container-id-4 div.sk-toggleable__content {max-height: 0;max-width: 0;overflow: hidden;text-align: left;background-color: #f0f8ff;}#sk-container-id-4 div.sk-toggleable__content pre {margin: 0.2em;color: black;border-radius: 0.25em;background-color: #f0f8ff;}#sk-container-id-4 input.sk-toggleable__control:checked~div.sk-toggleable__content {max-height: 200px;max-width: 100%;overflow: auto;}#sk-container-id-4 input.sk-toggleable__control:checked~label.sk-toggleable__label-arrow:before {content: \"▾\";}#sk-container-id-4 div.sk-estimator input.sk-toggleable__control:checked~label.sk-toggleable__label {background-color: #d4ebff;}#sk-container-id-4 div.sk-label input.sk-toggleable__control:checked~label.sk-toggleable__label {background-color: #d4ebff;}#sk-container-id-4 input.sk-hidden--visually {border: 0;clip: rect(1px 1px 1px 1px);clip: rect(1px, 1px, 1px, 1px);height: 1px;margin: -1px;overflow: hidden;padding: 0;position: absolute;width: 1px;}#sk-container-id-4 div.sk-estimator {font-family: monospace;background-color: #f0f8ff;border: 1px dotted black;border-radius: 0.25em;box-sizing: border-box;margin-bottom: 0.5em;}#sk-container-id-4 div.sk-estimator:hover {background-color: #d4ebff;}#sk-container-id-4 div.sk-parallel-item::after {content: \"\";width: 100%;border-bottom: 1px solid gray;flex-grow: 1;}#sk-container-id-4 div.sk-label:hover label.sk-toggleable__label {background-color: #d4ebff;}#sk-container-id-4 div.sk-serial::before {content: \"\";position: absolute;border-left: 1px solid gray;box-sizing: border-box;top: 0;bottom: 0;left: 50%;z-index: 0;}#sk-container-id-4 div.sk-serial {display: flex;flex-direction: column;align-items: center;background-color: white;padding-right: 0.2em;padding-left: 0.2em;position: relative;}#sk-container-id-4 div.sk-item {position: relative;z-index: 1;}#sk-container-id-4 div.sk-parallel {display: flex;align-items: stretch;justify-content: center;background-color: white;position: relative;}#sk-container-id-4 div.sk-item::before, #sk-container-id-4 div.sk-parallel-item::before {content: \"\";position: absolute;border-left: 1px solid gray;box-sizing: border-box;top: 0;bottom: 0;left: 50%;z-index: -1;}#sk-container-id-4 div.sk-parallel-item {display: flex;flex-direction: column;z-index: 1;position: relative;background-color: white;}#sk-container-id-4 div.sk-parallel-item:first-child::after {align-self: flex-end;width: 50%;}#sk-container-id-4 div.sk-parallel-item:last-child::after {align-self: flex-start;width: 50%;}#sk-container-id-4 div.sk-parallel-item:only-child::after {width: 0;}#sk-container-id-4 div.sk-dashed-wrapped {border: 1px dashed gray;margin: 0 0.4em 0.5em 0.4em;box-sizing: border-box;padding-bottom: 0.4em;background-color: white;}#sk-container-id-4 div.sk-label label {font-family: monospace;font-weight: bold;display: inline-block;line-height: 1.2em;}#sk-container-id-4 div.sk-label-container {text-align: center;}#sk-container-id-4 div.sk-container {/* jupyter's `normalize.less` sets `[hidden] { display: none; }` but bootstrap.min.css set `[hidden] { display: none !important; }` so we also need the `!important` here to be able to override the default hidden behavior on the sphinx rendered scikit-learn.org. See: https://github.com/scikit-learn/scikit-learn/issues/21755 */display: inline-block !important;position: relative;}#sk-container-id-4 div.sk-text-repr-fallback {display: none;}</style><div id=\"sk-container-id-4\" class=\"sk-top-container\"><div class=\"sk-text-repr-fallback\"><pre>LogisticRegression()</pre><b>In a Jupyter environment, please rerun this cell to show the HTML representation or trust the notebook. <br />On GitHub, the HTML representation is unable to render, please try loading this page with nbviewer.org.</b></div><div class=\"sk-container\" hidden><div class=\"sk-item\"><div class=\"sk-estimator sk-toggleable\"><input class=\"sk-toggleable__control sk-hidden--visually\" id=\"sk-estimator-id-4\" type=\"checkbox\" checked><label for=\"sk-estimator-id-4\" class=\"sk-toggleable__label sk-toggleable__label-arrow\">LogisticRegression</label><div class=\"sk-toggleable__content\"><pre>LogisticRegression()</pre></div></div></div></div></div>"
      ],
      "text/plain": [
       "LogisticRegression()"
      ]
     },
     "execution_count": 37,
     "metadata": {},
     "output_type": "execute_result"
    }
   ],
   "source": [
    "lr = LogisticRegression()\n",
    "lr.fit(X_train, y_train)"
   ]
  },
  {
   "cell_type": "code",
   "execution_count": 38,
   "id": "78d1b0b2",
   "metadata": {},
   "outputs": [
    {
     "name": "stdout",
     "output_type": "stream",
     "text": [
      "The Training Accuracy of the algorithm is  0.7657339073390734\n",
      "The Validation Accuracy of the algorithm is  0.7603526035260353\n"
     ]
    },
    {
     "data": {
      "image/png": "[encoded data removed]",
      "text/plain": [
       "<Figure size 640x480 with 2 Axes>"
      ]
     },
     "metadata": {},
     "output_type": "display_data"
    }
   ],
   "source": [
    "lr_r = model_evaluation(lr)"
   ]
  },
  {
   "cell_type": "code",
   "execution_count": 39,
   "id": "52495427",
   "metadata": {},
   "outputs": [
    {
     "data": {
      "text/html": [
       "<style>#sk-container-id-5 {color: black;background-color: white;}#sk-container-id-5 pre{padding: 0;}#sk-container-id-5 div.sk-toggleable {background-color: white;}#sk-container-id-5 label.sk-toggleable__label {cursor: pointer;display: block;width: 100%;margin-bottom: 0;padding: 0.3em;box-sizing: border-box;text-align: center;}#sk-container-id-5 label.sk-toggleable__label-arrow:before {content: \"▸\";float: left;margin-right: 0.25em;color: #696969;}#sk-container-id-5 label.sk-toggleable__label-arrow:hover:before {color: black;}#sk-container-id-5 div.sk-estimator:hover label.sk-toggleable__label-arrow:before {color: black;}#sk-container-id-5 div.sk-toggleable__content {max-height: 0;max-width: 0;overflow: hidden;text-align: left;background-color: #f0f8ff;}#sk-container-id-5 div.sk-toggleable__content pre {margin: 0.2em;color: black;border-radius: 0.25em;background-color: #f0f8ff;}#sk-container-id-5 input.sk-toggleable__control:checked~div.sk-toggleable__content {max-height: 200px;max-width: 100%;overflow: auto;}#sk-container-id-5 input.sk-toggleable__control:checked~label.sk-toggleable__label-arrow:before {content: \"▾\";}#sk-container-id-5 div.sk-estimator input.sk-toggleable__control:checked~label.sk-toggleable__label {background-color: #d4ebff;}#sk-container-id-5 div.sk-label input.sk-toggleable__control:checked~label.sk-toggleable__label {background-color: #d4ebff;}#sk-container-id-5 input.sk-hidden--visually {border: 0;clip: rect(1px 1px 1px 1px);clip: rect(1px, 1px, 1px, 1px);height: 1px;margin: -1px;overflow: hidden;padding: 0;position: absolute;width: 1px;}#sk-container-id-5 div.sk-estimator {font-family: monospace;background-color: #f0f8ff;border: 1px dotted black;border-radius: 0.25em;box-sizing: border-box;margin-bottom: 0.5em;}#sk-container-id-5 div.sk-estimator:hover {background-color: #d4ebff;}#sk-container-id-5 div.sk-parallel-item::after {content: \"\";width: 100%;border-bottom: 1px solid gray;flex-grow: 1;}#sk-container-id-5 div.sk-label:hover label.sk-toggleable__label {background-color: #d4ebff;}#sk-container-id-5 div.sk-serial::before {content: \"\";position: absolute;border-left: 1px solid gray;box-sizing: border-box;top: 0;bottom: 0;left: 50%;z-index: 0;}#sk-container-id-5 div.sk-serial {display: flex;flex-direction: column;align-items: center;background-color: white;padding-right: 0.2em;padding-left: 0.2em;position: relative;}#sk-container-id-5 div.sk-item {position: relative;z-index: 1;}#sk-container-id-5 div.sk-parallel {display: flex;align-items: stretch;justify-content: center;background-color: white;position: relative;}#sk-container-id-5 div.sk-item::before, #sk-container-id-5 div.sk-parallel-item::before {content: \"\";position: absolute;border-left: 1px solid gray;box-sizing: border-box;top: 0;bottom: 0;left: 50%;z-index: -1;}#sk-container-id-5 div.sk-parallel-item {display: flex;flex-direction: column;z-index: 1;position: relative;background-color: white;}#sk-container-id-5 div.sk-parallel-item:first-child::after {align-self: flex-end;width: 50%;}#sk-container-id-5 div.sk-parallel-item:last-child::after {align-self: flex-start;width: 50%;}#sk-container-id-5 div.sk-parallel-item:only-child::after {width: 0;}#sk-container-id-5 div.sk-dashed-wrapped {border: 1px dashed gray;margin: 0 0.4em 0.5em 0.4em;box-sizing: border-box;padding-bottom: 0.4em;background-color: white;}#sk-container-id-5 div.sk-label label {font-family: monospace;font-weight: bold;display: inline-block;line-height: 1.2em;}#sk-container-id-5 div.sk-label-container {text-align: center;}#sk-container-id-5 div.sk-container {/* jupyter's `normalize.less` sets `[hidden] { display: none; }` but bootstrap.min.css set `[hidden] { display: none !important; }` so we also need the `!important` here to be able to override the default hidden behavior on the sphinx rendered scikit-learn.org. See: https://github.com/scikit-learn/scikit-learn/issues/21755 */display: inline-block !important;position: relative;}#sk-container-id-5 div.sk-text-repr-fallback {display: none;}</style><div id=\"sk-container-id-5\" class=\"sk-top-container\"><div class=\"sk-text-repr-fallback\"><pre>DecisionTreeClassifier()</pre><b>In a Jupyter environment, please rerun this cell to show the HTML representation or trust the notebook. <br />On GitHub, the HTML representation is unable to render, please try loading this page with nbviewer.org.</b></div><div class=\"sk-container\" hidden><div class=\"sk-item\"><div class=\"sk-estimator sk-toggleable\"><input class=\"sk-toggleable__control sk-hidden--visually\" id=\"sk-estimator-id-5\" type=\"checkbox\" checked><label for=\"sk-estimator-id-5\" class=\"sk-toggleable__label sk-toggleable__label-arrow\">DecisionTreeClassifier</label><div class=\"sk-toggleable__content\"><pre>DecisionTreeClassifier()</pre></div></div></div></div></div>"
      ],
      "text/plain": [
       "DecisionTreeClassifier()"
      ]
     },
     "execution_count": 39,
     "metadata": {},
     "output_type": "execute_result"
    }
   ],
   "source": [
    "dt = DecisionTreeClassifier()\n",
    "dt.fit(X_train, y_train)"
   ]
  },
  {
   "cell_type": "code",
   "execution_count": 40,
   "id": "e1272930",
   "metadata": {},
   "outputs": [
    {
     "name": "stdout",
     "output_type": "stream",
     "text": [
      "The Training Accuracy of the algorithm is  0.9957462074620747\n",
      "The Validation Accuracy of the algorithm is  0.9149241492414925\n"
     ]
    },
    {
     "data": {
      "image/png": "[encoded data removed]",
      "text/plain": [
       "<Figure size 640x480 with 2 Axes>"
      ]
     },
     "metadata": {},
     "output_type": "display_data"
    }
   ],
   "source": [
    "dt_r = model_evaluation(dt)"
   ]
  },
  {
   "cell_type": "code",
   "execution_count": 41,
   "id": "7f251922",
   "metadata": {},
   "outputs": [
    {
     "data": {
      "text/html": [
       "<style>#sk-container-id-6 {color: black;background-color: white;}#sk-container-id-6 pre{padding: 0;}#sk-container-id-6 div.sk-toggleable {background-color: white;}#sk-container-id-6 label.sk-toggleable__label {cursor: pointer;display: block;width: 100%;margin-bottom: 0;padding: 0.3em;box-sizing: border-box;text-align: center;}#sk-container-id-6 label.sk-toggleable__label-arrow:before {content: \"▸\";float: left;margin-right: 0.25em;color: #696969;}#sk-container-id-6 label.sk-toggleable__label-arrow:hover:before {color: black;}#sk-container-id-6 div.sk-estimator:hover label.sk-toggleable__label-arrow:before {color: black;}#sk-container-id-6 div.sk-toggleable__content {max-height: 0;max-width: 0;overflow: hidden;text-align: left;background-color: #f0f8ff;}#sk-container-id-6 div.sk-toggleable__content pre {margin: 0.2em;color: black;border-radius: 0.25em;background-color: #f0f8ff;}#sk-container-id-6 input.sk-toggleable__control:checked~div.sk-toggleable__content {max-height: 200px;max-width: 100%;overflow: auto;}#sk-container-id-6 input.sk-toggleable__control:checked~label.sk-toggleable__label-arrow:before {content: \"▾\";}#sk-container-id-6 div.sk-estimator input.sk-toggleable__control:checked~label.sk-toggleable__label {background-color: #d4ebff;}#sk-container-id-6 div.sk-label input.sk-toggleable__control:checked~label.sk-toggleable__label {background-color: #d4ebff;}#sk-container-id-6 input.sk-hidden--visually {border: 0;clip: rect(1px 1px 1px 1px);clip: rect(1px, 1px, 1px, 1px);height: 1px;margin: -1px;overflow: hidden;padding: 0;position: absolute;width: 1px;}#sk-container-id-6 div.sk-estimator {font-family: monospace;background-color: #f0f8ff;border: 1px dotted black;border-radius: 0.25em;box-sizing: border-box;margin-bottom: 0.5em;}#sk-container-id-6 div.sk-estimator:hover {background-color: #d4ebff;}#sk-container-id-6 div.sk-parallel-item::after {content: \"\";width: 100%;border-bottom: 1px solid gray;flex-grow: 1;}#sk-container-id-6 div.sk-label:hover label.sk-toggleable__label {background-color: #d4ebff;}#sk-container-id-6 div.sk-serial::before {content: \"\";position: absolute;border-left: 1px solid gray;box-sizing: border-box;top: 0;bottom: 0;left: 50%;z-index: 0;}#sk-container-id-6 div.sk-serial {display: flex;flex-direction: column;align-items: center;background-color: white;padding-right: 0.2em;padding-left: 0.2em;position: relative;}#sk-container-id-6 div.sk-item {position: relative;z-index: 1;}#sk-container-id-6 div.sk-parallel {display: flex;align-items: stretch;justify-content: center;background-color: white;position: relative;}#sk-container-id-6 div.sk-item::before, #sk-container-id-6 div.sk-parallel-item::before {content: \"\";position: absolute;border-left: 1px solid gray;box-sizing: border-box;top: 0;bottom: 0;left: 50%;z-index: -1;}#sk-container-id-6 div.sk-parallel-item {display: flex;flex-direction: column;z-index: 1;position: relative;background-color: white;}#sk-container-id-6 div.sk-parallel-item:first-child::after {align-self: flex-end;width: 50%;}#sk-container-id-6 div.sk-parallel-item:last-child::after {align-self: flex-start;width: 50%;}#sk-container-id-6 div.sk-parallel-item:only-child::after {width: 0;}#sk-container-id-6 div.sk-dashed-wrapped {border: 1px dashed gray;margin: 0 0.4em 0.5em 0.4em;box-sizing: border-box;padding-bottom: 0.4em;background-color: white;}#sk-container-id-6 div.sk-label label {font-family: monospace;font-weight: bold;display: inline-block;line-height: 1.2em;}#sk-container-id-6 div.sk-label-container {text-align: center;}#sk-container-id-6 div.sk-container {/* jupyter's `normalize.less` sets `[hidden] { display: none; }` but bootstrap.min.css set `[hidden] { display: none !important; }` so we also need the `!important` here to be able to override the default hidden behavior on the sphinx rendered scikit-learn.org. See: https://github.com/scikit-learn/scikit-learn/issues/21755 */display: inline-block !important;position: relative;}#sk-container-id-6 div.sk-text-repr-fallback {display: none;}</style><div id=\"sk-container-id-6\" class=\"sk-top-container\"><div class=\"sk-text-repr-fallback\"><pre>RandomForestClassifier()</pre><b>In a Jupyter environment, please rerun this cell to show the HTML representation or trust the notebook. <br />On GitHub, the HTML representation is unable to render, please try loading this page with nbviewer.org.</b></div><div class=\"sk-container\" hidden><div class=\"sk-item\"><div class=\"sk-estimator sk-toggleable\"><input class=\"sk-toggleable__control sk-hidden--visually\" id=\"sk-estimator-id-6\" type=\"checkbox\" checked><label for=\"sk-estimator-id-6\" class=\"sk-toggleable__label sk-toggleable__label-arrow\">RandomForestClassifier</label><div class=\"sk-toggleable__content\"><pre>RandomForestClassifier()</pre></div></div></div></div></div>"
      ],
      "text/plain": [
       "RandomForestClassifier()"
      ]
     },
     "execution_count": 41,
     "metadata": {},
     "output_type": "execute_result"
    }
   ],
   "source": [
    "rf = RandomForestClassifier()\n",
    "rf.fit(X_train, y_train)"
   ]
  },
  {
   "cell_type": "code",
   "execution_count": 42,
   "id": "37351f3c",
   "metadata": {},
   "outputs": [
    {
     "name": "stdout",
     "output_type": "stream",
     "text": [
      "The Training Accuracy of the algorithm is  0.9957462074620747\n",
      "The Validation Accuracy of the algorithm is  0.9366543665436654\n"
     ]
    },
    {
     "data": {
      "image/png": "[encoded data removed]",
      "text/plain": [
       "<Figure size 640x480 with 2 Axes>"
      ]
     },
     "metadata": {},
     "output_type": "display_data"
    }
   ],
   "source": [
    "rf_r = model_evaluation(rf)"
   ]
  },
  {
   "cell_type": "code",
   "execution_count": 43,
   "id": "916df8d2",
   "metadata": {},
   "outputs": [
    {
     "data": {
      "text/html": [
       "<style>#sk-container-id-7 {color: black;background-color: white;}#sk-container-id-7 pre{padding: 0;}#sk-container-id-7 div.sk-toggleable {background-color: white;}#sk-container-id-7 label.sk-toggleable__label {cursor: pointer;display: block;width: 100%;margin-bottom: 0;padding: 0.3em;box-sizing: border-box;text-align: center;}#sk-container-id-7 label.sk-toggleable__label-arrow:before {content: \"▸\";float: left;margin-right: 0.25em;color: #696969;}#sk-container-id-7 label.sk-toggleable__label-arrow:hover:before {color: black;}#sk-container-id-7 div.sk-estimator:hover label.sk-toggleable__label-arrow:before {color: black;}#sk-container-id-7 div.sk-toggleable__content {max-height: 0;max-width: 0;overflow: hidden;text-align: left;background-color: #f0f8ff;}#sk-container-id-7 div.sk-toggleable__content pre {margin: 0.2em;color: black;border-radius: 0.25em;background-color: #f0f8ff;}#sk-container-id-7 input.sk-toggleable__control:checked~div.sk-toggleable__content {max-height: 200px;max-width: 100%;overflow: auto;}#sk-container-id-7 input.sk-toggleable__control:checked~label.sk-toggleable__label-arrow:before {content: \"▾\";}#sk-container-id-7 div.sk-estimator input.sk-toggleable__control:checked~label.sk-toggleable__label {background-color: #d4ebff;}#sk-container-id-7 div.sk-label input.sk-toggleable__control:checked~label.sk-toggleable__label {background-color: #d4ebff;}#sk-container-id-7 input.sk-hidden--visually {border: 0;clip: rect(1px 1px 1px 1px);clip: rect(1px, 1px, 1px, 1px);height: 1px;margin: -1px;overflow: hidden;padding: 0;position: absolute;width: 1px;}#sk-container-id-7 div.sk-estimator {font-family: monospace;background-color: #f0f8ff;border: 1px dotted black;border-radius: 0.25em;box-sizing: border-box;margin-bottom: 0.5em;}#sk-container-id-7 div.sk-estimator:hover {background-color: #d4ebff;}#sk-container-id-7 div.sk-parallel-item::after {content: \"\";width: 100%;border-bottom: 1px solid gray;flex-grow: 1;}#sk-container-id-7 div.sk-label:hover label.sk-toggleable__label {background-color: #d4ebff;}#sk-container-id-7 div.sk-serial::before {content: \"\";position: absolute;border-left: 1px solid gray;box-sizing: border-box;top: 0;bottom: 0;left: 50%;z-index: 0;}#sk-container-id-7 div.sk-serial {display: flex;flex-direction: column;align-items: center;background-color: white;padding-right: 0.2em;padding-left: 0.2em;position: relative;}#sk-container-id-7 div.sk-item {position: relative;z-index: 1;}#sk-container-id-7 div.sk-parallel {display: flex;align-items: stretch;justify-content: center;background-color: white;position: relative;}#sk-container-id-7 div.sk-item::before, #sk-container-id-7 div.sk-parallel-item::before {content: \"\";position: absolute;border-left: 1px solid gray;box-sizing: border-box;top: 0;bottom: 0;left: 50%;z-index: -1;}#sk-container-id-7 div.sk-parallel-item {display: flex;flex-direction: column;z-index: 1;position: relative;background-color: white;}#sk-container-id-7 div.sk-parallel-item:first-child::after {align-self: flex-end;width: 50%;}#sk-container-id-7 div.sk-parallel-item:last-child::after {align-self: flex-start;width: 50%;}#sk-container-id-7 div.sk-parallel-item:only-child::after {width: 0;}#sk-container-id-7 div.sk-dashed-wrapped {border: 1px dashed gray;margin: 0 0.4em 0.5em 0.4em;box-sizing: border-box;padding-bottom: 0.4em;background-color: white;}#sk-container-id-7 div.sk-label label {font-family: monospace;font-weight: bold;display: inline-block;line-height: 1.2em;}#sk-container-id-7 div.sk-label-container {text-align: center;}#sk-container-id-7 div.sk-container {/* jupyter's `normalize.less` sets `[hidden] { display: none; }` but bootstrap.min.css set `[hidden] { display: none !important; }` so we also need the `!important` here to be able to override the default hidden behavior on the sphinx rendered scikit-learn.org. See: https://github.com/scikit-learn/scikit-learn/issues/21755 */display: inline-block !important;position: relative;}#sk-container-id-7 div.sk-text-repr-fallback {display: none;}</style><div id=\"sk-container-id-7\" class=\"sk-top-container\"><div class=\"sk-text-repr-fallback\"><pre>GradientBoostingClassifier()</pre><b>In a Jupyter environment, please rerun this cell to show the HTML representation or trust the notebook. <br />On GitHub, the HTML representation is unable to render, please try loading this page with nbviewer.org.</b></div><div class=\"sk-container\" hidden><div class=\"sk-item\"><div class=\"sk-estimator sk-toggleable\"><input class=\"sk-toggleable__control sk-hidden--visually\" id=\"sk-estimator-id-7\" type=\"checkbox\" checked><label for=\"sk-estimator-id-7\" class=\"sk-toggleable__label sk-toggleable__label-arrow\">GradientBoostingClassifier</label><div class=\"sk-toggleable__content\"><pre>GradientBoostingClassifier()</pre></div></div></div></div></div>"
      ],
      "text/plain": [
       "GradientBoostingClassifier()"
      ]
     },
     "execution_count": 43,
     "metadata": {},
     "output_type": "execute_result"
    }
   ],
   "source": [
    "gb = GradientBoostingClassifier()\n",
    "gb.fit(X_train, y_train)"
   ]
  },
  {
   "cell_type": "code",
   "execution_count": 44,
   "id": "e8627dd0",
   "metadata": {},
   "outputs": [
    {
     "name": "stdout",
     "output_type": "stream",
     "text": [
      "The Training Accuracy of the algorithm is  0.8293357933579336\n",
      "The Validation Accuracy of the algorithm is  0.8275932759327593\n"
     ]
    },
    {
     "data": {
      "image/png": "[encoded data removed]",
      "text/plain": [
       "<Figure size 640x480 with 2 Axes>"
      ]
     },
     "metadata": {},
     "output_type": "display_data"
    }
   ],
   "source": [
    "gb_r = model_evaluation(gb)"
   ]
  },
  {
   "cell_type": "code",
   "execution_count": 45,
   "id": "cc19d3b6",
   "metadata": {},
   "outputs": [],
   "source": [
    "results = pd.DataFrame(data = [knn_r, svm_r, gnb_r, lr_r,dt_r, rf_r, gb_r],\n",
    "                       columns = ['Training Accuracy', 'Validation Accuracy', 'F1 Score'],\n",
    "                        index = ['K Nearest Neighbors', 'Support Vector Machines',\n",
    "                                 'Naive Bayes', 'Logistic Regression',\n",
    "                                 'Decision Tree', 'Random Forest', 'Gradient Boost'])"
   ]
  },
  {
   "cell_type": "code",
   "execution_count": 46,
   "id": "0adb8805",
   "metadata": {},
   "outputs": [
    {
     "data": {
      "text/html": [
       "<div>\n",
       "<style scoped>\n",
       "    .dataframe tbody tr th:only-of-type {\n",
       "        vertical-align: middle;\n",
       "    }\n",
       "\n",
       "    .dataframe tbody tr th {\n",
       "        vertical-align: top;\n",
       "    }\n",
       "\n",
       "    .dataframe thead th {\n",
       "        text-align: right;\n",
       "    }\n",
       "</style>\n",
       "<table border=\"1\" class=\"dataframe\">\n",
       "  <thead>\n",
       "    <tr style=\"text-align: right;\">\n",
       "      <th></th>\n",
       "      <th>Training Accuracy</th>\n",
       "      <th>Validation Accuracy</th>\n",
       "      <th>F1 Score</th>\n",
       "    </tr>\n",
       "  </thead>\n",
       "  <tbody>\n",
       "    <tr>\n",
       "      <th>K Nearest Neighbors</th>\n",
       "      <td>86.715867</td>\n",
       "      <td>79.848298</td>\n",
       "      <td>0.802967</td>\n",
       "    </tr>\n",
       "    <tr>\n",
       "      <th>Support Vector Machines</th>\n",
       "      <td>69.290693</td>\n",
       "      <td>69.270193</td>\n",
       "      <td>0.657215</td>\n",
       "    </tr>\n",
       "    <tr>\n",
       "      <th>Naive Bayes</th>\n",
       "      <td>54.274293</td>\n",
       "      <td>54.264043</td>\n",
       "      <td>0.683681</td>\n",
       "    </tr>\n",
       "    <tr>\n",
       "      <th>Logistic Regression</th>\n",
       "      <td>76.573391</td>\n",
       "      <td>76.035260</td>\n",
       "      <td>0.757116</td>\n",
       "    </tr>\n",
       "    <tr>\n",
       "      <th>Decision Tree</th>\n",
       "      <td>99.574621</td>\n",
       "      <td>91.492415</td>\n",
       "      <td>0.917544</td>\n",
       "    </tr>\n",
       "    <tr>\n",
       "      <th>Random Forest</th>\n",
       "      <td>99.574621</td>\n",
       "      <td>93.665437</td>\n",
       "      <td>0.937689</td>\n",
       "    </tr>\n",
       "    <tr>\n",
       "      <th>Gradient Boost</th>\n",
       "      <td>82.933579</td>\n",
       "      <td>82.759328</td>\n",
       "      <td>0.823356</td>\n",
       "    </tr>\n",
       "  </tbody>\n",
       "</table>\n",
       "</div>"
      ],
      "text/plain": [
       "                         Training Accuracy  Validation Accuracy  F1 Score\n",
       "K Nearest Neighbors              86.715867            79.848298  0.802967\n",
       "Support Vector Machines          69.290693            69.270193  0.657215\n",
       "Naive Bayes                      54.274293            54.264043  0.683681\n",
       "Logistic Regression              76.573391            76.035260  0.757116\n",
       "Decision Tree                    99.574621            91.492415  0.917544\n",
       "Random Forest                    99.574621            93.665437  0.937689\n",
       "Gradient Boost                   82.933579            82.759328  0.823356"
      ]
     },
     "execution_count": 46,
     "metadata": {},
     "output_type": "execute_result"
    }
   ],
   "source": [
    "results"
   ]
  },
  {
   "cell_type": "code",
   "execution_count": 47,
   "id": "4fe54c16",
   "metadata": {},
   "outputs": [],
   "source": [
    "fi = rf.feature_importances_"
   ]
  },
  {
   "cell_type": "code",
   "execution_count": 48,
   "id": "606ddc0e",
   "metadata": {},
   "outputs": [],
   "source": [
    "col = train.columns"
   ]
  },
  {
   "cell_type": "code",
   "execution_count": 49,
   "id": "bea2f3d9",
   "metadata": {},
   "outputs": [],
   "source": [
    "feat_imp = {}\n",
    "for i, j in zip(fi,col):\n",
    "    feat_imp[j] = i"
   ]
  },
  {
   "cell_type": "code",
   "execution_count": 50,
   "id": "ace7c16c",
   "metadata": {},
   "outputs": [
    {
     "data": {
      "text/plain": [
       "{'no_of_adults': 0.02451589510890438,\n",
       " 'no_of_children': 0.007860620740177576,\n",
       " 'no_of_weekend_nights': 0.03853559411143688,\n",
       " 'no_of_week_nights': 0.05185374686394164,\n",
       " 'type_of_meal_plan': 0.0207749336794491,\n",
       " 'required_car_parking_space': 0.008765835562143448,\n",
       " 'room_type_reserved': 0.01617138934303456,\n",
       " 'lead_time': 0.3095095259226672,\n",
       " 'arrival_year': 0.029251040004139677,\n",
       " 'arrival_month': 0.08517839262180074,\n",
       " 'arrival_date': 0.08870916665908744,\n",
       " 'market_segment_type': 0.0554798564141468,\n",
       " 'repeated_guest': 0.0028544439844667892,\n",
       " 'no_of_previous_cancellations': 0.0001926760710848964,\n",
       " 'no_of_previous_bookings_not_canceled': 0.002942865603882197,\n",
       " 'avg_price_per_room': 0.14955876581731695,\n",
       " 'no_of_special_requests': 0.10784525149231991}"
      ]
     },
     "execution_count": 50,
     "metadata": {},
     "output_type": "execute_result"
    }
   ],
   "source": [
    "feat_imp"
   ]
  },
  {
   "cell_type": "code",
   "execution_count": 51,
   "id": "309472d8",
   "metadata": {},
   "outputs": [],
   "source": [
    "def model_evaluation1(n_feat,classifier):\n",
    "    y_pred = classifier.predict(X1_val)\n",
    "    yt_pred = classifier.predict(X1_train)\n",
    "    return [(n_feat),(accuracy_score(y1_train, yt_pred)), (accuracy_score(y_val, y_pred))]"
   ]
  },
  {
   "cell_type": "code",
   "execution_count": 52,
   "id": "2d56671a",
   "metadata": {},
   "outputs": [],
   "source": [
    "rfc_results = []"
   ]
  },
  {
   "cell_type": "code",
   "execution_count": 53,
   "id": "4ad5ea1f",
   "metadata": {},
   "outputs": [],
   "source": [
    "for main in [0.03,0.025,0.020,0.014, 0.008]:\n",
    "    to_drop = []\n",
    "    for i,j in zip(feat_imp.keys(),feat_imp.values()):\n",
    "        if j < main:\n",
    "            to_drop.append(i)\n",
    "    \n",
    "    X_new = X.drop(to_drop,axis = 1)\n",
    "    y_new = y\n",
    "    X1_train, X1_val, y1_train, y1_val = train_test_split(X_new, y_new, test_size=0.2)\n",
    "    rfc_new = RandomForestClassifier()\n",
    "    rfc_new.fit(X1_train, y1_train)\n",
    "    temp1 = model_evaluation1(X1_train.shape[1], rfc_new)\n",
    "    rfc_results.append(temp1)"
   ]
  },
  {
   "cell_type": "code",
   "execution_count": 54,
   "id": "c4ec6ff1",
   "metadata": {},
   "outputs": [
    {
     "data": {
      "text/plain": [
       "[[8, 0.9956949569495694, 0.4997949979499795],\n",
       " [9, 0.9954387043870438, 0.4911849118491185],\n",
       " [11, 0.9957462074620747, 0.502870028700287],\n",
       " [12, 0.9956437064370643, 0.5026650266502665],\n",
       " [13, 0.9956949569495694, 0.4985649856498565]]"
      ]
     },
     "execution_count": 54,
     "metadata": {},
     "output_type": "execute_result"
    }
   ],
   "source": [
    "rfc_results"
   ]
  },
  {
   "cell_type": "code",
   "execution_count": 55,
   "id": "e267796d",
   "metadata": {},
   "outputs": [
    {
     "data": {
      "text/html": [
       "<div>\n",
       "<style scoped>\n",
       "    .dataframe tbody tr th:only-of-type {\n",
       "        vertical-align: middle;\n",
       "    }\n",
       "\n",
       "    .dataframe tbody tr th {\n",
       "        vertical-align: top;\n",
       "    }\n",
       "\n",
       "    .dataframe thead th {\n",
       "        text-align: right;\n",
       "    }\n",
       "</style>\n",
       "<table border=\"1\" class=\"dataframe\">\n",
       "  <thead>\n",
       "    <tr style=\"text-align: right;\">\n",
       "      <th></th>\n",
       "      <th>Number of features</th>\n",
       "      <th>Training Accuracy</th>\n",
       "      <th>Validation Accuracy</th>\n",
       "    </tr>\n",
       "  </thead>\n",
       "  <tbody>\n",
       "    <tr>\n",
       "      <th>0</th>\n",
       "      <td>8</td>\n",
       "      <td>0.995695</td>\n",
       "      <td>0.499795</td>\n",
       "    </tr>\n",
       "    <tr>\n",
       "      <th>1</th>\n",
       "      <td>9</td>\n",
       "      <td>0.995439</td>\n",
       "      <td>0.491185</td>\n",
       "    </tr>\n",
       "    <tr>\n",
       "      <th>2</th>\n",
       "      <td>11</td>\n",
       "      <td>0.995746</td>\n",
       "      <td>0.502870</td>\n",
       "    </tr>\n",
       "    <tr>\n",
       "      <th>3</th>\n",
       "      <td>12</td>\n",
       "      <td>0.995644</td>\n",
       "      <td>0.502665</td>\n",
       "    </tr>\n",
       "    <tr>\n",
       "      <th>4</th>\n",
       "      <td>13</td>\n",
       "      <td>0.995695</td>\n",
       "      <td>0.498565</td>\n",
       "    </tr>\n",
       "  </tbody>\n",
       "</table>\n",
       "</div>"
      ],
      "text/plain": [
       "   Number of features  Training Accuracy  Validation Accuracy\n",
       "0                   8           0.995695             0.499795\n",
       "1                   9           0.995439             0.491185\n",
       "2                  11           0.995746             0.502870\n",
       "3                  12           0.995644             0.502665\n",
       "4                  13           0.995695             0.498565"
      ]
     },
     "execution_count": 55,
     "metadata": {},
     "output_type": "execute_result"
    }
   ],
   "source": [
    "randomf = pd.DataFrame(data = rfc_results,columns=['Number of features','Training Accuracy','Validation Accuracy'])\n",
    "randomf"
   ]
  },
  {
   "cell_type": "code",
   "execution_count": 56,
   "id": "95e46deb",
   "metadata": {},
   "outputs": [],
   "source": [
    "from sklearn.model_selection import GridSearchCV"
   ]
  },
  {
   "cell_type": "code",
   "execution_count": 57,
   "id": "2e1ec4ff",
   "metadata": {},
   "outputs": [],
   "source": [
    "parameters = {\n",
    "              \"max_features\":[None, 6,7,8],\n",
    "              \"max_depth\":[None, 13, 15]   \n",
    "              }"
   ]
  },
  {
   "cell_type": "code",
   "execution_count": 58,
   "id": "257c5bf0",
   "metadata": {},
   "outputs": [],
   "source": [
    "from sklearn.model_selection import KFold\n",
    "gdcv = GridSearchCV(estimator=rf,param_grid=parameters)"
   ]
  },
  {
   "cell_type": "code",
   "execution_count": 59,
   "id": "af7cbf28",
   "metadata": {},
   "outputs": [
    {
     "data": {
      "text/html": [
       "<style>#sk-container-id-8 {color: black;background-color: white;}#sk-container-id-8 pre{padding: 0;}#sk-container-id-8 div.sk-toggleable {background-color: white;}#sk-container-id-8 label.sk-toggleable__label {cursor: pointer;display: block;width: 100%;margin-bottom: 0;padding: 0.3em;box-sizing: border-box;text-align: center;}#sk-container-id-8 label.sk-toggleable__label-arrow:before {content: \"▸\";float: left;margin-right: 0.25em;color: #696969;}#sk-container-id-8 label.sk-toggleable__label-arrow:hover:before {color: black;}#sk-container-id-8 div.sk-estimator:hover label.sk-toggleable__label-arrow:before {color: black;}#sk-container-id-8 div.sk-toggleable__content {max-height: 0;max-width: 0;overflow: hidden;text-align: left;background-color: #f0f8ff;}#sk-container-id-8 div.sk-toggleable__content pre {margin: 0.2em;color: black;border-radius: 0.25em;background-color: #f0f8ff;}#sk-container-id-8 input.sk-toggleable__control:checked~div.sk-toggleable__content {max-height: 200px;max-width: 100%;overflow: auto;}#sk-container-id-8 input.sk-toggleable__control:checked~label.sk-toggleable__label-arrow:before {content: \"▾\";}#sk-container-id-8 div.sk-estimator input.sk-toggleable__control:checked~label.sk-toggleable__label {background-color: #d4ebff;}#sk-container-id-8 div.sk-label input.sk-toggleable__control:checked~label.sk-toggleable__label {background-color: #d4ebff;}#sk-container-id-8 input.sk-hidden--visually {border: 0;clip: rect(1px 1px 1px 1px);clip: rect(1px, 1px, 1px, 1px);height: 1px;margin: -1px;overflow: hidden;padding: 0;position: absolute;width: 1px;}#sk-container-id-8 div.sk-estimator {font-family: monospace;background-color: #f0f8ff;border: 1px dotted black;border-radius: 0.25em;box-sizing: border-box;margin-bottom: 0.5em;}#sk-container-id-8 div.sk-estimator:hover {background-color: #d4ebff;}#sk-container-id-8 div.sk-parallel-item::after {content: \"\";width: 100%;border-bottom: 1px solid gray;flex-grow: 1;}#sk-container-id-8 div.sk-label:hover label.sk-toggleable__label {background-color: #d4ebff;}#sk-container-id-8 div.sk-serial::before {content: \"\";position: absolute;border-left: 1px solid gray;box-sizing: border-box;top: 0;bottom: 0;left: 50%;z-index: 0;}#sk-container-id-8 div.sk-serial {display: flex;flex-direction: column;align-items: center;background-color: white;padding-right: 0.2em;padding-left: 0.2em;position: relative;}#sk-container-id-8 div.sk-item {position: relative;z-index: 1;}#sk-container-id-8 div.sk-parallel {display: flex;align-items: stretch;justify-content: center;background-color: white;position: relative;}#sk-container-id-8 div.sk-item::before, #sk-container-id-8 div.sk-parallel-item::before {content: \"\";position: absolute;border-left: 1px solid gray;box-sizing: border-box;top: 0;bottom: 0;left: 50%;z-index: -1;}#sk-container-id-8 div.sk-parallel-item {display: flex;flex-direction: column;z-index: 1;position: relative;background-color: white;}#sk-container-id-8 div.sk-parallel-item:first-child::after {align-self: flex-end;width: 50%;}#sk-container-id-8 div.sk-parallel-item:last-child::after {align-self: flex-start;width: 50%;}#sk-container-id-8 div.sk-parallel-item:only-child::after {width: 0;}#sk-container-id-8 div.sk-dashed-wrapped {border: 1px dashed gray;margin: 0 0.4em 0.5em 0.4em;box-sizing: border-box;padding-bottom: 0.4em;background-color: white;}#sk-container-id-8 div.sk-label label {font-family: monospace;font-weight: bold;display: inline-block;line-height: 1.2em;}#sk-container-id-8 div.sk-label-container {text-align: center;}#sk-container-id-8 div.sk-container {/* jupyter's `normalize.less` sets `[hidden] { display: none; }` but bootstrap.min.css set `[hidden] { display: none !important; }` so we also need the `!important` here to be able to override the default hidden behavior on the sphinx rendered scikit-learn.org. See: https://github.com/scikit-learn/scikit-learn/issues/21755 */display: inline-block !important;position: relative;}#sk-container-id-8 div.sk-text-repr-fallback {display: none;}</style><div id=\"sk-container-id-8\" class=\"sk-top-container\"><div class=\"sk-text-repr-fallback\"><pre>GridSearchCV(estimator=RandomForestClassifier(),\n",
       "             param_grid={&#x27;max_depth&#x27;: [None, 13, 15],\n",
       "                         &#x27;max_features&#x27;: [None, 6, 7, 8]})</pre><b>In a Jupyter environment, please rerun this cell to show the HTML representation or trust the notebook. <br />On GitHub, the HTML representation is unable to render, please try loading this page with nbviewer.org.</b></div><div class=\"sk-container\" hidden><div class=\"sk-item sk-dashed-wrapped\"><div class=\"sk-label-container\"><div class=\"sk-label sk-toggleable\"><input class=\"sk-toggleable__control sk-hidden--visually\" id=\"sk-estimator-id-8\" type=\"checkbox\" ><label for=\"sk-estimator-id-8\" class=\"sk-toggleable__label sk-toggleable__label-arrow\">GridSearchCV</label><div class=\"sk-toggleable__content\"><pre>GridSearchCV(estimator=RandomForestClassifier(),\n",
       "             param_grid={&#x27;max_depth&#x27;: [None, 13, 15],\n",
       "                         &#x27;max_features&#x27;: [None, 6, 7, 8]})</pre></div></div></div><div class=\"sk-parallel\"><div class=\"sk-parallel-item\"><div class=\"sk-item\"><div class=\"sk-label-container\"><div class=\"sk-label sk-toggleable\"><input class=\"sk-toggleable__control sk-hidden--visually\" id=\"sk-estimator-id-9\" type=\"checkbox\" ><label for=\"sk-estimator-id-9\" class=\"sk-toggleable__label sk-toggleable__label-arrow\">estimator: RandomForestClassifier</label><div class=\"sk-toggleable__content\"><pre>RandomForestClassifier()</pre></div></div></div><div class=\"sk-serial\"><div class=\"sk-item\"><div class=\"sk-estimator sk-toggleable\"><input class=\"sk-toggleable__control sk-hidden--visually\" id=\"sk-estimator-id-10\" type=\"checkbox\" ><label for=\"sk-estimator-id-10\" class=\"sk-toggleable__label sk-toggleable__label-arrow\">RandomForestClassifier</label><div class=\"sk-toggleable__content\"><pre>RandomForestClassifier()</pre></div></div></div></div></div></div></div></div></div></div>"
      ],
      "text/plain": [
       "GridSearchCV(estimator=RandomForestClassifier(),\n",
       "             param_grid={'max_depth': [None, 13, 15],\n",
       "                         'max_features': [None, 6, 7, 8]})"
      ]
     },
     "execution_count": 59,
     "metadata": {},
     "output_type": "execute_result"
    }
   ],
   "source": [
    "gdcv.fit(X_train, y_train)"
   ]
  },
  {
   "cell_type": "code",
   "execution_count": 60,
   "id": "cc438cc5",
   "metadata": {
    "scrolled": true
   },
   "outputs": [
    {
     "data": {
      "text/plain": [
       "{'max_depth': None, 'max_features': 7}"
      ]
     },
     "execution_count": 60,
     "metadata": {},
     "output_type": "execute_result"
    }
   ],
   "source": [
    "gdcv.best_params_"
   ]
  },
  {
   "cell_type": "code",
   "execution_count": 61,
   "id": "81b419cd",
   "metadata": {},
   "outputs": [
    {
     "data": {
      "text/html": [
       "<style>#sk-container-id-9 {color: black;background-color: white;}#sk-container-id-9 pre{padding: 0;}#sk-container-id-9 div.sk-toggleable {background-color: white;}#sk-container-id-9 label.sk-toggleable__label {cursor: pointer;display: block;width: 100%;margin-bottom: 0;padding: 0.3em;box-sizing: border-box;text-align: center;}#sk-container-id-9 label.sk-toggleable__label-arrow:before {content: \"▸\";float: left;margin-right: 0.25em;color: #696969;}#sk-container-id-9 label.sk-toggleable__label-arrow:hover:before {color: black;}#sk-container-id-9 div.sk-estimator:hover label.sk-toggleable__label-arrow:before {color: black;}#sk-container-id-9 div.sk-toggleable__content {max-height: 0;max-width: 0;overflow: hidden;text-align: left;background-color: #f0f8ff;}#sk-container-id-9 div.sk-toggleable__content pre {margin: 0.2em;color: black;border-radius: 0.25em;background-color: #f0f8ff;}#sk-container-id-9 input.sk-toggleable__control:checked~div.sk-toggleable__content {max-height: 200px;max-width: 100%;overflow: auto;}#sk-container-id-9 input.sk-toggleable__control:checked~label.sk-toggleable__label-arrow:before {content: \"▾\";}#sk-container-id-9 div.sk-estimator input.sk-toggleable__control:checked~label.sk-toggleable__label {background-color: #d4ebff;}#sk-container-id-9 div.sk-label input.sk-toggleable__control:checked~label.sk-toggleable__label {background-color: #d4ebff;}#sk-container-id-9 input.sk-hidden--visually {border: 0;clip: rect(1px 1px 1px 1px);clip: rect(1px, 1px, 1px, 1px);height: 1px;margin: -1px;overflow: hidden;padding: 0;position: absolute;width: 1px;}#sk-container-id-9 div.sk-estimator {font-family: monospace;background-color: #f0f8ff;border: 1px dotted black;border-radius: 0.25em;box-sizing: border-box;margin-bottom: 0.5em;}#sk-container-id-9 div.sk-estimator:hover {background-color: #d4ebff;}#sk-container-id-9 div.sk-parallel-item::after {content: \"\";width: 100%;border-bottom: 1px solid gray;flex-grow: 1;}#sk-container-id-9 div.sk-label:hover label.sk-toggleable__label {background-color: #d4ebff;}#sk-container-id-9 div.sk-serial::before {content: \"\";position: absolute;border-left: 1px solid gray;box-sizing: border-box;top: 0;bottom: 0;left: 50%;z-index: 0;}#sk-container-id-9 div.sk-serial {display: flex;flex-direction: column;align-items: center;background-color: white;padding-right: 0.2em;padding-left: 0.2em;position: relative;}#sk-container-id-9 div.sk-item {position: relative;z-index: 1;}#sk-container-id-9 div.sk-parallel {display: flex;align-items: stretch;justify-content: center;background-color: white;position: relative;}#sk-container-id-9 div.sk-item::before, #sk-container-id-9 div.sk-parallel-item::before {content: \"\";position: absolute;border-left: 1px solid gray;box-sizing: border-box;top: 0;bottom: 0;left: 50%;z-index: -1;}#sk-container-id-9 div.sk-parallel-item {display: flex;flex-direction: column;z-index: 1;position: relative;background-color: white;}#sk-container-id-9 div.sk-parallel-item:first-child::after {align-self: flex-end;width: 50%;}#sk-container-id-9 div.sk-parallel-item:last-child::after {align-self: flex-start;width: 50%;}#sk-container-id-9 div.sk-parallel-item:only-child::after {width: 0;}#sk-container-id-9 div.sk-dashed-wrapped {border: 1px dashed gray;margin: 0 0.4em 0.5em 0.4em;box-sizing: border-box;padding-bottom: 0.4em;background-color: white;}#sk-container-id-9 div.sk-label label {font-family: monospace;font-weight: bold;display: inline-block;line-height: 1.2em;}#sk-container-id-9 div.sk-label-container {text-align: center;}#sk-container-id-9 div.sk-container {/* jupyter's `normalize.less` sets `[hidden] { display: none; }` but bootstrap.min.css set `[hidden] { display: none !important; }` so we also need the `!important` here to be able to override the default hidden behavior on the sphinx rendered scikit-learn.org. See: https://github.com/scikit-learn/scikit-learn/issues/21755 */display: inline-block !important;position: relative;}#sk-container-id-9 div.sk-text-repr-fallback {display: none;}</style><div id=\"sk-container-id-9\" class=\"sk-top-container\"><div class=\"sk-text-repr-fallback\"><pre>RandomForestClassifier(max_depth=15, max_features=6)</pre><b>In a Jupyter environment, please rerun this cell to show the HTML representation or trust the notebook. <br />On GitHub, the HTML representation is unable to render, please try loading this page with nbviewer.org.</b></div><div class=\"sk-container\" hidden><div class=\"sk-item\"><div class=\"sk-estimator sk-toggleable\"><input class=\"sk-toggleable__control sk-hidden--visually\" id=\"sk-estimator-id-11\" type=\"checkbox\" checked><label for=\"sk-estimator-id-11\" class=\"sk-toggleable__label sk-toggleable__label-arrow\">RandomForestClassifier</label><div class=\"sk-toggleable__content\"><pre>RandomForestClassifier(max_depth=15, max_features=6)</pre></div></div></div></div></div>"
      ],
      "text/plain": [
       "RandomForestClassifier(max_depth=15, max_features=6)"
      ]
     },
     "execution_count": 61,
     "metadata": {},
     "output_type": "execute_result"
    }
   ],
   "source": [
    "rf_new = RandomForestClassifier(max_depth=15, max_features = 6)\n",
    "rf_new.fit(X_train, y_train)"
   ]
  },
  {
   "cell_type": "code",
   "execution_count": 62,
   "id": "f4d9c73c",
   "metadata": {},
   "outputs": [
    {
     "name": "stdout",
     "output_type": "stream",
     "text": [
      "The Training Accuracy of the algorithm is  0.9445469454694547\n",
      "The Validation Accuracy of the algorithm is  0.9114391143911439\n"
     ]
    },
    {
     "data": {
      "text/plain": [
       "[94.45469454694548, 91.14391143911439, 0.911728647323253]"
      ]
     },
     "execution_count": 62,
     "metadata": {},
     "output_type": "execute_result"
    },
    {
     "data": {
      "image/png": "[encoded data removed]",
      "text/plain": [
       "<Figure size 640x480 with 2 Axes>"
      ]
     },
     "metadata": {},
     "output_type": "display_data"
    }
   ],
   "source": [
    "model_evaluation(rf_new)"
   ]
  },
  {
   "cell_type": "code",
   "execution_count": 63,
   "id": "6c2bf150",
   "metadata": {},
   "outputs": [],
   "source": [
    "pickle.dump(rf_new,open('model.pkl','wb'))"
   ]
  },
  {
   "cell_type": "code",
   "execution_count": 64,
   "id": "2b61a829",
   "metadata": {},
   "outputs": [],
   "source": [
    "pred = rf_new.predict(X_val)"
   ]
  },
  {
   "cell_type": "code",
   "execution_count": 65,
   "id": "bee2a641",
   "metadata": {},
   "outputs": [
    {
     "data": {
      "text/plain": [
       "array([1, 1, 0, ..., 0, 1, 1], dtype=int64)"
      ]
     },
     "execution_count": 65,
     "metadata": {},
     "output_type": "execute_result"
    }
   ],
   "source": [
    "pred"
   ]
  },
  {
   "cell_type": "code",
   "execution_count": 66,
   "id": "d0b514e6",
   "metadata": {},
   "outputs": [
    {
     "data": {
      "text/html": [
       "<div>\n",
       "<style scoped>\n",
       "    .dataframe tbody tr th:only-of-type {\n",
       "        vertical-align: middle;\n",
       "    }\n",
       "\n",
       "    .dataframe tbody tr th {\n",
       "        vertical-align: top;\n",
       "    }\n",
       "\n",
       "    .dataframe thead th {\n",
       "        text-align: right;\n",
       "    }\n",
       "</style>\n",
       "<table border=\"1\" class=\"dataframe\">\n",
       "  <thead>\n",
       "    <tr style=\"text-align: right;\">\n",
       "      <th></th>\n",
       "      <th>Original</th>\n",
       "      <th>Predicted</th>\n",
       "    </tr>\n",
       "  </thead>\n",
       "  <tbody>\n",
       "    <tr>\n",
       "      <th>23419</th>\n",
       "      <td>1</td>\n",
       "      <td>1</td>\n",
       "    </tr>\n",
       "    <tr>\n",
       "      <th>23480</th>\n",
       "      <td>1</td>\n",
       "      <td>1</td>\n",
       "    </tr>\n",
       "    <tr>\n",
       "      <th>6115</th>\n",
       "      <td>0</td>\n",
       "      <td>0</td>\n",
       "    </tr>\n",
       "    <tr>\n",
       "      <th>21894</th>\n",
       "      <td>1</td>\n",
       "      <td>1</td>\n",
       "    </tr>\n",
       "    <tr>\n",
       "      <th>24140</th>\n",
       "      <td>1</td>\n",
       "      <td>1</td>\n",
       "    </tr>\n",
       "    <tr>\n",
       "      <th>...</th>\n",
       "      <td>...</td>\n",
       "      <td>...</td>\n",
       "    </tr>\n",
       "    <tr>\n",
       "      <th>16581</th>\n",
       "      <td>0</td>\n",
       "      <td>0</td>\n",
       "    </tr>\n",
       "    <tr>\n",
       "      <th>7582</th>\n",
       "      <td>0</td>\n",
       "      <td>0</td>\n",
       "    </tr>\n",
       "    <tr>\n",
       "      <th>2327</th>\n",
       "      <td>0</td>\n",
       "      <td>0</td>\n",
       "    </tr>\n",
       "    <tr>\n",
       "      <th>19137</th>\n",
       "      <td>1</td>\n",
       "      <td>1</td>\n",
       "    </tr>\n",
       "    <tr>\n",
       "      <th>10686</th>\n",
       "      <td>0</td>\n",
       "      <td>1</td>\n",
       "    </tr>\n",
       "  </tbody>\n",
       "</table>\n",
       "<p>4878 rows × 2 columns</p>\n",
       "</div>"
      ],
      "text/plain": [
       "       Original  Predicted\n",
       "23419         1          1\n",
       "23480         1          1\n",
       "6115          0          0\n",
       "21894         1          1\n",
       "24140         1          1\n",
       "...         ...        ...\n",
       "16581         0          0\n",
       "7582          0          0\n",
       "2327          0          0\n",
       "19137         1          1\n",
       "10686         0          1\n",
       "\n",
       "[4878 rows x 2 columns]"
      ]
     },
     "execution_count": 66,
     "metadata": {},
     "output_type": "execute_result"
    }
   ],
   "source": [
    "pd.DataFrame({'Original': y_val, 'Predicted': pred})"
   ]
  },
  {
   "cell_type": "code",
   "execution_count": null,
   "id": "0aca53c6",
   "metadata": {},
   "outputs": [],
   "source": []
  }
 ],
 "metadata": {
  "kernelspec": {
   "display_name": "Python 3 (ipykernel)",
   "language": "python",
   "name": "python3"
  },
  "language_info": {
   "codemirror_mode": {
    "name": "ipython",
    "version": 3
   },
   "file_extension": ".py",
   "mimetype": "text/x-python",
   "name": "python",
   "nbconvert_exporter": "python",
   "pygments_lexer": "ipython3",
   "version": "3.8.16"
  }
 },
 "nbformat": 4,
 "nbformat_minor": 5
}
